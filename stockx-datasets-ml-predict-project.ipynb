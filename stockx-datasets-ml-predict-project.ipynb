{
 "cells": [
  {
   "cell_type": "code",
   "execution_count": 1,
   "id": "ddef9f5c",
   "metadata": {
    "_cell_guid": "b1076dfc-b9ad-4769-8c92-a6c4dae69d19",
    "_uuid": "8f2839f25d086af736a60e9eeb907d3b93b6e0e5",
    "execution": {
     "iopub.execute_input": "2022-09-02T11:37:30.980111Z",
     "iopub.status.busy": "2022-09-02T11:37:30.979482Z",
     "iopub.status.idle": "2022-09-02T11:37:32.275576Z",
     "shell.execute_reply": "2022-09-02T11:37:32.274338Z"
    },
    "papermill": {
     "duration": 1.32068,
     "end_time": "2022-09-02T11:37:32.278339",
     "exception": false,
     "start_time": "2022-09-02T11:37:30.957659",
     "status": "completed"
    },
    "tags": []
   },
   "outputs": [
    {
     "name": "stdout",
     "output_type": "stream",
     "text": [
      "/kaggle/input/stockx-data-contest/StockX-Data-Contest-2019-3.csv\n"
     ]
    }
   ],
   "source": [
    "import numpy as np \n",
    "import pandas as pd \n",
    "import seaborn as sns\n",
    "import matplotlib.pyplot as plt\n",
    "from sklearn.preprocessing import LabelEncoder,MinMaxScaler\n",
    "from sklearn.metrics import mean_squared_error\n",
    "\n",
    "\n",
    "import os\n",
    "for dirname, _, filenames in os.walk('/kaggle/input'):\n",
    "    for filename in filenames:\n",
    "        print(os.path.join(dirname, filename))\n",
    "        \n",
    "pd.set_option('display.max_columns', None)\n",
    "pd.set_option('display.width', None)\n",
    "pd.set_option('display.max_columns', 50)\n",
    "pd.set_option('display.float_format', lambda x: '%.6f' % x)"
   ]
  },
  {
   "cell_type": "markdown",
   "id": "0e03d6ca",
   "metadata": {
    "papermill": {
     "duration": 0.017201,
     "end_time": "2022-09-02T11:37:32.315281",
     "exception": false,
     "start_time": "2022-09-02T11:37:32.298080",
     "status": "completed"
    },
    "tags": []
   },
   "source": [
    "# Read Data"
   ]
  },
  {
   "cell_type": "code",
   "execution_count": 2,
   "id": "99ac9fe3",
   "metadata": {
    "execution": {
     "iopub.execute_input": "2022-09-02T11:37:32.352831Z",
     "iopub.status.busy": "2022-09-02T11:37:32.352434Z",
     "iopub.status.idle": "2022-09-02T11:37:32.578449Z",
     "shell.execute_reply": "2022-09-02T11:37:32.577199Z"
    },
    "papermill": {
     "duration": 0.248499,
     "end_time": "2022-09-02T11:37:32.581221",
     "exception": false,
     "start_time": "2022-09-02T11:37:32.332722",
     "status": "completed"
    },
    "tags": []
   },
   "outputs": [],
   "source": [
    "df = pd.read_csv(\"../input/stockx-data-contest/StockX-Data-Contest-2019-3.csv\")"
   ]
  },
  {
   "cell_type": "code",
   "execution_count": 3,
   "id": "cdd9ac36",
   "metadata": {
    "execution": {
     "iopub.execute_input": "2022-09-02T11:37:32.618828Z",
     "iopub.status.busy": "2022-09-02T11:37:32.618399Z",
     "iopub.status.idle": "2022-09-02T11:37:32.624836Z",
     "shell.execute_reply": "2022-09-02T11:37:32.623921Z"
    },
    "papermill": {
     "duration": 0.027513,
     "end_time": "2022-09-02T11:37:32.626806",
     "exception": false,
     "start_time": "2022-09-02T11:37:32.599293",
     "status": "completed"
    },
    "tags": []
   },
   "outputs": [],
   "source": [
    "def DataFrame_Check(df,n=5):\n",
    "    print(\"########### HEAD ###########\")\n",
    "    print(df.head(n))\n",
    "    print(\"########### TAIL ###########\")\n",
    "    print(df.tail(n))\n",
    "    print(\"########### INFO ###########\")\n",
    "    df.info()\n",
    "    print(\"########### DESCRIBE ###########\")\n",
    "    print(df.describe())\n",
    "    print(\"########### SHAPE ###########\")\n",
    "    print(df.shape)\n",
    "    print(\"########### COLUMNS ###########\")\n",
    "    print(df.columns)\n",
    "    print(\"########### NDIM ###########\")\n",
    "    print(df.ndim)"
   ]
  },
  {
   "cell_type": "code",
   "execution_count": 4,
   "id": "5f3a7f87",
   "metadata": {
    "execution": {
     "iopub.execute_input": "2022-09-02T11:37:32.664082Z",
     "iopub.status.busy": "2022-09-02T11:37:32.663350Z",
     "iopub.status.idle": "2022-09-02T11:37:32.740616Z",
     "shell.execute_reply": "2022-09-02T11:37:32.739234Z"
    },
    "papermill": {
     "duration": 0.098447,
     "end_time": "2022-09-02T11:37:32.742935",
     "exception": false,
     "start_time": "2022-09-02T11:37:32.644488",
     "status": "completed"
    },
    "tags": []
   },
   "outputs": [
    {
     "name": "stdout",
     "output_type": "stream",
     "text": [
      "########### HEAD ###########\n",
      "  Order Date   Brand                                   Sneaker Name  \\\n",
      "0     9/1/17   Yeezy           Adidas-Yeezy-Boost-350-Low-V2-Beluga   \n",
      "1     9/1/17   Yeezy    Adidas-Yeezy-Boost-350-V2-Core-Black-Copper   \n",
      "2     9/1/17   Yeezy     Adidas-Yeezy-Boost-350-V2-Core-Black-Green   \n",
      "3     9/1/17   Yeezy       Adidas-Yeezy-Boost-350-V2-Core-Black-Red   \n",
      "4     9/1/17   Yeezy  Adidas-Yeezy-Boost-350-V2-Core-Black-Red-2017   \n",
      "\n",
      "  Sale Price Retail Price Release Date  Shoe Size  Buyer Region  \n",
      "0     $1,097         $220      9/24/16  11.000000    California  \n",
      "1       $685         $220     11/23/16  11.000000    California  \n",
      "2       $690         $220     11/23/16  11.000000    California  \n",
      "3     $1,075         $220     11/23/16  11.500000      Kentucky  \n",
      "4       $828         $220      2/11/17  11.000000  Rhode Island  \n",
      "########### TAIL ###########\n",
      "      Order Date   Brand                                 Sneaker Name  \\\n",
      "99951    2/13/19   Yeezy  adidas-Yeezy-Boost-350-V2-Static-Reflective   \n",
      "99952    2/13/19   Yeezy  adidas-Yeezy-Boost-350-V2-Static-Reflective   \n",
      "99953    2/13/19   Yeezy  adidas-Yeezy-Boost-350-V2-Static-Reflective   \n",
      "99954    2/13/19   Yeezy  adidas-Yeezy-Boost-350-V2-Static-Reflective   \n",
      "99955    2/13/19   Yeezy  adidas-Yeezy-Boost-350-V2-Static-Reflective   \n",
      "\n",
      "      Sale Price Retail Price Release Date  Shoe Size Buyer Region  \n",
      "99951       $565         $220     12/26/18   8.000000       Oregon  \n",
      "99952       $598         $220     12/26/18   8.500000   California  \n",
      "99953       $605         $220     12/26/18   5.500000     New York  \n",
      "99954       $650         $220     12/26/18  11.000000   California  \n",
      "99955       $640         $220     12/26/18  11.500000        Texas  \n",
      "########### INFO ###########\n",
      "<class 'pandas.core.frame.DataFrame'>\n",
      "RangeIndex: 99956 entries, 0 to 99955\n",
      "Data columns (total 8 columns):\n",
      " #   Column        Non-Null Count  Dtype  \n",
      "---  ------        --------------  -----  \n",
      " 0   Order Date    99956 non-null  object \n",
      " 1   Brand         99956 non-null  object \n",
      " 2   Sneaker Name  99956 non-null  object \n",
      " 3   Sale Price    99956 non-null  object \n",
      " 4   Retail Price  99956 non-null  object \n",
      " 5   Release Date  99956 non-null  object \n",
      " 6   Shoe Size     99956 non-null  float64\n",
      " 7   Buyer Region  99956 non-null  object \n",
      "dtypes: float64(1), object(7)\n",
      "memory usage: 6.1+ MB\n",
      "########### DESCRIBE ###########\n",
      "         Shoe Size\n",
      "count 99956.000000\n",
      "mean      9.344181\n",
      "std       2.329588\n",
      "min       3.500000\n",
      "25%       8.000000\n",
      "50%       9.500000\n",
      "75%      11.000000\n",
      "max      17.000000\n",
      "########### SHAPE ###########\n",
      "(99956, 8)\n",
      "########### COLUMNS ###########\n",
      "Index(['Order Date', 'Brand', 'Sneaker Name', 'Sale Price', 'Retail Price',\n",
      "       'Release Date', 'Shoe Size', 'Buyer Region'],\n",
      "      dtype='object')\n",
      "########### NDIM ###########\n",
      "2\n"
     ]
    }
   ],
   "source": [
    "DataFrame_Check(df)"
   ]
  },
  {
   "cell_type": "code",
   "execution_count": 5,
   "id": "715809b8",
   "metadata": {
    "execution": {
     "iopub.execute_input": "2022-09-02T11:37:32.780706Z",
     "iopub.status.busy": "2022-09-02T11:37:32.779461Z",
     "iopub.status.idle": "2022-09-02T11:37:33.039822Z",
     "shell.execute_reply": "2022-09-02T11:37:33.038871Z"
    },
    "papermill": {
     "duration": 0.281867,
     "end_time": "2022-09-02T11:37:33.042455",
     "exception": false,
     "start_time": "2022-09-02T11:37:32.760588",
     "status": "completed"
    },
    "tags": []
   },
   "outputs": [],
   "source": [
    "df[\"Order Date\"] = pd.to_datetime(df[\"Order Date\"])\n",
    "df[\"Release Date\"] = pd.to_datetime(df[\"Release Date\"])\n",
    "\n",
    "df[\"Sale Price\"] = df[\"Sale Price\"].apply(lambda x: x.replace(\"$\",\"\"))\n",
    "df[\"Sale Price\"] = df[\"Sale Price\"].apply(lambda x: x.replace(\",\",\"\"))\n",
    "df[\"Sale Price\"] = df[\"Sale Price\"].astype(\"float\")\n",
    "\n",
    "df[\"Retail Price\"] = df[\"Retail Price\"].apply(lambda x: x.replace(\"$\",\"\"))\n",
    "df[\"Retail Price\"] = df[\"Retail Price\"].apply(lambda x: x.replace(\",\",\"\"))\n",
    "df[\"Retail Price\"] = df[\"Retail Price\"].astype(\"float\")"
   ]
  },
  {
   "cell_type": "code",
   "execution_count": 6,
   "id": "144f4316",
   "metadata": {
    "execution": {
     "iopub.execute_input": "2022-09-02T11:37:33.079971Z",
     "iopub.status.busy": "2022-09-02T11:37:33.079585Z",
     "iopub.status.idle": "2022-09-02T11:37:33.139735Z",
     "shell.execute_reply": "2022-09-02T11:37:33.137919Z"
    },
    "papermill": {
     "duration": 0.082512,
     "end_time": "2022-09-02T11:37:33.142904",
     "exception": false,
     "start_time": "2022-09-02T11:37:33.060392",
     "status": "completed"
    },
    "tags": []
   },
   "outputs": [
    {
     "name": "stdout",
     "output_type": "stream",
     "text": [
      "########### HEAD ###########\n",
      "  Order Date   Brand                                   Sneaker Name  \\\n",
      "0 2017-09-01   Yeezy           Adidas-Yeezy-Boost-350-Low-V2-Beluga   \n",
      "1 2017-09-01   Yeezy    Adidas-Yeezy-Boost-350-V2-Core-Black-Copper   \n",
      "2 2017-09-01   Yeezy     Adidas-Yeezy-Boost-350-V2-Core-Black-Green   \n",
      "3 2017-09-01   Yeezy       Adidas-Yeezy-Boost-350-V2-Core-Black-Red   \n",
      "4 2017-09-01   Yeezy  Adidas-Yeezy-Boost-350-V2-Core-Black-Red-2017   \n",
      "\n",
      "   Sale Price  Retail Price Release Date  Shoe Size  Buyer Region  \n",
      "0 1097.000000    220.000000   2016-09-24  11.000000    California  \n",
      "1  685.000000    220.000000   2016-11-23  11.000000    California  \n",
      "2  690.000000    220.000000   2016-11-23  11.000000    California  \n",
      "3 1075.000000    220.000000   2016-11-23  11.500000      Kentucky  \n",
      "4  828.000000    220.000000   2017-02-11  11.000000  Rhode Island  \n",
      "########### TAIL ###########\n",
      "      Order Date   Brand                                 Sneaker Name  \\\n",
      "99951 2019-02-13   Yeezy  adidas-Yeezy-Boost-350-V2-Static-Reflective   \n",
      "99952 2019-02-13   Yeezy  adidas-Yeezy-Boost-350-V2-Static-Reflective   \n",
      "99953 2019-02-13   Yeezy  adidas-Yeezy-Boost-350-V2-Static-Reflective   \n",
      "99954 2019-02-13   Yeezy  adidas-Yeezy-Boost-350-V2-Static-Reflective   \n",
      "99955 2019-02-13   Yeezy  adidas-Yeezy-Boost-350-V2-Static-Reflective   \n",
      "\n",
      "       Sale Price  Retail Price Release Date  Shoe Size Buyer Region  \n",
      "99951  565.000000    220.000000   2018-12-26   8.000000       Oregon  \n",
      "99952  598.000000    220.000000   2018-12-26   8.500000   California  \n",
      "99953  605.000000    220.000000   2018-12-26   5.500000     New York  \n",
      "99954  650.000000    220.000000   2018-12-26  11.000000   California  \n",
      "99955  640.000000    220.000000   2018-12-26  11.500000        Texas  \n",
      "########### INFO ###########\n",
      "<class 'pandas.core.frame.DataFrame'>\n",
      "RangeIndex: 99956 entries, 0 to 99955\n",
      "Data columns (total 8 columns):\n",
      " #   Column        Non-Null Count  Dtype         \n",
      "---  ------        --------------  -----         \n",
      " 0   Order Date    99956 non-null  datetime64[ns]\n",
      " 1   Brand         99956 non-null  object        \n",
      " 2   Sneaker Name  99956 non-null  object        \n",
      " 3   Sale Price    99956 non-null  float64       \n",
      " 4   Retail Price  99956 non-null  float64       \n",
      " 5   Release Date  99956 non-null  datetime64[ns]\n",
      " 6   Shoe Size     99956 non-null  float64       \n",
      " 7   Buyer Region  99956 non-null  object        \n",
      "dtypes: datetime64[ns](2), float64(3), object(3)\n",
      "memory usage: 6.1+ MB\n",
      "########### DESCRIBE ###########\n",
      "        Sale Price  Retail Price    Shoe Size\n",
      "count 99956.000000  99956.000000 99956.000000\n",
      "mean    446.634719    208.613590     9.344181\n",
      "std     255.982969     25.200010     2.329588\n",
      "min     186.000000    130.000000     3.500000\n",
      "25%     275.000000    220.000000     8.000000\n",
      "50%     370.000000    220.000000     9.500000\n",
      "75%     540.000000    220.000000    11.000000\n",
      "max    4050.000000    250.000000    17.000000\n",
      "########### SHAPE ###########\n",
      "(99956, 8)\n",
      "########### COLUMNS ###########\n",
      "Index(['Order Date', 'Brand', 'Sneaker Name', 'Sale Price', 'Retail Price',\n",
      "       'Release Date', 'Shoe Size', 'Buyer Region'],\n",
      "      dtype='object')\n",
      "########### NDIM ###########\n",
      "2\n"
     ]
    }
   ],
   "source": [
    "DataFrame_Check(df)"
   ]
  },
  {
   "cell_type": "code",
   "execution_count": 7,
   "id": "c336dc43",
   "metadata": {
    "execution": {
     "iopub.execute_input": "2022-09-02T11:37:33.180622Z",
     "iopub.status.busy": "2022-09-02T11:37:33.180209Z",
     "iopub.status.idle": "2022-09-02T11:37:33.188894Z",
     "shell.execute_reply": "2022-09-02T11:37:33.187731Z"
    },
    "papermill": {
     "duration": 0.03025,
     "end_time": "2022-09-02T11:37:33.191249",
     "exception": false,
     "start_time": "2022-09-02T11:37:33.160999",
     "status": "completed"
    },
    "tags": []
   },
   "outputs": [],
   "source": [
    "def grab_columns(df, cat_th=10, car_th = 20):\n",
    "    cat_col = [col for col in df.columns if df[col].dtypes == \"O\"]\n",
    "    num_but_cat = [col for col in df.columns if df[col].dtypes != \"O\" and df[col].nunique() < cat_th]\n",
    "    cat_but_car = [col for col in df.columns if df[col].dtypes == \"O\" and df[col].nunique() > car_th]\n",
    "    \n",
    "    cat_col = cat_col + num_but_cat\n",
    "    cat_col = [col for col in cat_col if col not in cat_but_car]\n",
    "    \n",
    "    num_col = [col for col in df.columns if df[col].dtypes != \"O\" and col not in num_but_cat]\n",
    "    \n",
    "    print(\"----- Categorical Columns -----\")\n",
    "    print(cat_col)\n",
    "    print(\"----- Numerical Columns -----\")\n",
    "    print(num_col)\n",
    "    print(\"----- Cardinal Columns -----\")\n",
    "    print(cat_but_car)\n",
    "    return cat_col,num_col,cat_but_car"
   ]
  },
  {
   "cell_type": "code",
   "execution_count": 8,
   "id": "9a7dcca3",
   "metadata": {
    "execution": {
     "iopub.execute_input": "2022-09-02T11:37:33.228691Z",
     "iopub.status.busy": "2022-09-02T11:37:33.228291Z",
     "iopub.status.idle": "2022-09-02T11:37:33.266785Z",
     "shell.execute_reply": "2022-09-02T11:37:33.265930Z"
    },
    "papermill": {
     "duration": 0.059922,
     "end_time": "2022-09-02T11:37:33.268954",
     "exception": false,
     "start_time": "2022-09-02T11:37:33.209032",
     "status": "completed"
    },
    "tags": []
   },
   "outputs": [
    {
     "name": "stdout",
     "output_type": "stream",
     "text": [
      "----- Categorical Columns -----\n",
      "['Brand', 'Retail Price']\n",
      "----- Numerical Columns -----\n",
      "['Order Date', 'Sale Price', 'Release Date', 'Shoe Size']\n",
      "----- Cardinal Columns -----\n",
      "['Sneaker Name', 'Buyer Region']\n"
     ]
    }
   ],
   "source": [
    "cat_col, num_col,cat_but_car = grab_columns(df)"
   ]
  },
  {
   "cell_type": "markdown",
   "id": "e10834a2",
   "metadata": {
    "papermill": {
     "duration": 0.017915,
     "end_time": "2022-09-02T11:37:33.304781",
     "exception": false,
     "start_time": "2022-09-02T11:37:33.286866",
     "status": "completed"
    },
    "tags": []
   },
   "source": [
    "# Numerical Analysis"
   ]
  },
  {
   "cell_type": "code",
   "execution_count": 9,
   "id": "b92834b9",
   "metadata": {
    "execution": {
     "iopub.execute_input": "2022-09-02T11:37:33.342016Z",
     "iopub.status.busy": "2022-09-02T11:37:33.341631Z",
     "iopub.status.idle": "2022-09-02T11:37:33.348747Z",
     "shell.execute_reply": "2022-09-02T11:37:33.347571Z"
    },
    "papermill": {
     "duration": 0.028431,
     "end_time": "2022-09-02T11:37:33.351092",
     "exception": false,
     "start_time": "2022-09-02T11:37:33.322661",
     "status": "completed"
    },
    "tags": []
   },
   "outputs": [],
   "source": [
    "def numerical_analysis(df,col,plot=False):\n",
    "    print(\"Analysis For {}\".format(col))\n",
    "    quan = [0.01,0.05,0.1,0.2,0.3,0.4,0.5,0.6,0.7,0.8,0.9,0.95,0.99]\n",
    "    print(df[col].describe(quan))\n",
    "    if plot:\n",
    "        plt.figure(figsize= (10,10))\n",
    "        sns.histplot(df[col],kde=True)\n",
    "        plt.title(col)\n",
    "        plt.xticks(rotation = 45)\n",
    "        plt.show(block=True)\n",
    "    print(\"--------------------------------\")"
   ]
  },
  {
   "cell_type": "code",
   "execution_count": 10,
   "id": "98c421b1",
   "metadata": {
    "execution": {
     "iopub.execute_input": "2022-09-02T11:37:33.388762Z",
     "iopub.status.busy": "2022-09-02T11:37:33.388359Z",
     "iopub.status.idle": "2022-09-02T11:37:38.143902Z",
     "shell.execute_reply": "2022-09-02T11:37:38.142769Z"
    },
    "papermill": {
     "duration": 4.778376,
     "end_time": "2022-09-02T11:37:38.147608",
     "exception": false,
     "start_time": "2022-09-02T11:37:33.369232",
     "status": "completed"
    },
    "tags": []
   },
   "outputs": [
    {
     "name": "stdout",
     "output_type": "stream",
     "text": [
      "Analysis For Order Date\n",
      "count                   99956\n",
      "unique                    531\n",
      "top       2018-11-16 00:00:00\n",
      "freq                     1388\n",
      "first     2017-09-01 00:00:00\n",
      "last      2019-02-13 00:00:00\n",
      "Name: Order Date, dtype: object\n"
     ]
    },
    {
     "name": "stderr",
     "output_type": "stream",
     "text": [
      "/opt/conda/lib/python3.7/site-packages/ipykernel_launcher.py:4: FutureWarning: Treating datetime data as categorical rather than numeric in `.describe` is deprecated and will be removed in a future version of pandas. Specify `datetime_is_numeric=True` to silence this warning and adopt the future behavior now.\n",
      "  after removing the cwd from sys.path.\n"
     ]
    },
    {
     "data": {
      "image/png": "[encoded data removed]",
      "text/plain": [
       "<Figure size 720x720 with 1 Axes>"
      ]
     },
     "metadata": {
      "needs_background": "light"
     },
     "output_type": "display_data"
    },
    {
     "name": "stdout",
     "output_type": "stream",
     "text": [
      "--------------------------------\n",
      "Analysis For Sale Price\n",
      "count   99956.000000\n",
      "mean      446.634719\n",
      "std       255.982969\n",
      "min       186.000000\n",
      "1%        221.000000\n",
      "5%        240.000000\n",
      "10%       250.000000\n",
      "20%       269.000000\n",
      "30%       285.000000\n",
      "40%       325.000000\n",
      "50%       370.000000\n",
      "60%       400.000000\n",
      "70%       478.000000\n",
      "80%       594.000000\n",
      "90%       750.000000\n",
      "95%       894.000000\n",
      "99%      1500.000000\n",
      "max      4050.000000\n",
      "Name: Sale Price, dtype: float64\n"
     ]
    },
    {
     "data": {
      "image/png": "[encoded data removed]",
      "text/plain": [
       "<Figure size 720x720 with 1 Axes>"
      ]
     },
     "metadata": {
      "needs_background": "light"
     },
     "output_type": "display_data"
    },
    {
     "name": "stdout",
     "output_type": "stream",
     "text": [
      "--------------------------------\n",
      "Analysis For Release Date\n",
      "count                   99956\n",
      "unique                     35\n",
      "top       2018-06-30 00:00:00\n",
      "freq                    11423\n",
      "first     2015-06-27 00:00:00\n",
      "last      2019-02-07 00:00:00\n",
      "Name: Release Date, dtype: object\n"
     ]
    },
    {
     "name": "stderr",
     "output_type": "stream",
     "text": [
      "/opt/conda/lib/python3.7/site-packages/ipykernel_launcher.py:4: FutureWarning: Treating datetime data as categorical rather than numeric in `.describe` is deprecated and will be removed in a future version of pandas. Specify `datetime_is_numeric=True` to silence this warning and adopt the future behavior now.\n",
      "  after removing the cwd from sys.path.\n"
     ]
    },
    {
     "data": {
      "image/png": "[encoded data removed]",
      "text/plain": [
       "<Figure size 720x720 with 1 Axes>"
      ]
     },
     "metadata": {
      "needs_background": "light"
     },
     "output_type": "display_data"
    },
    {
     "name": "stdout",
     "output_type": "stream",
     "text": [
      "--------------------------------\n",
      "Analysis For Shoe Size\n",
      "count   99956.000000\n",
      "mean        9.344181\n",
      "std         2.329588\n",
      "min         3.500000\n",
      "1%          4.000000\n",
      "5%          5.000000\n",
      "10%         6.000000\n",
      "20%         7.500000\n",
      "30%         8.500000\n",
      "40%         9.000000\n",
      "50%         9.500000\n",
      "60%        10.000000\n",
      "70%        10.500000\n",
      "80%        11.000000\n",
      "90%        12.000000\n",
      "95%        13.000000\n",
      "99%        14.000000\n",
      "max        17.000000\n",
      "Name: Shoe Size, dtype: float64\n"
     ]
    },
    {
     "data": {
      "image/png": "[encoded data removed]",
      "text/plain": [
       "<Figure size 720x720 with 1 Axes>"
      ]
     },
     "metadata": {
      "needs_background": "light"
     },
     "output_type": "display_data"
    },
    {
     "name": "stdout",
     "output_type": "stream",
     "text": [
      "--------------------------------\n"
     ]
    }
   ],
   "source": [
    "for col in num_col:\n",
    "    numerical_analysis(df,col,plot=True)"
   ]
  },
  {
   "cell_type": "markdown",
   "id": "b9a1485c",
   "metadata": {
    "papermill": {
     "duration": 0.020341,
     "end_time": "2022-09-02T11:37:38.189496",
     "exception": false,
     "start_time": "2022-09-02T11:37:38.169155",
     "status": "completed"
    },
    "tags": []
   },
   "source": [
    "# Categorical Analysis"
   ]
  },
  {
   "cell_type": "code",
   "execution_count": 11,
   "id": "9ba37aca",
   "metadata": {
    "execution": {
     "iopub.execute_input": "2022-09-02T11:37:38.232558Z",
     "iopub.status.busy": "2022-09-02T11:37:38.232102Z",
     "iopub.status.idle": "2022-09-02T11:37:38.239893Z",
     "shell.execute_reply": "2022-09-02T11:37:38.238699Z"
    },
    "papermill": {
     "duration": 0.032195,
     "end_time": "2022-09-02T11:37:38.242378",
     "exception": false,
     "start_time": "2022-09-02T11:37:38.210183",
     "status": "completed"
    },
    "tags": []
   },
   "outputs": [],
   "source": [
    "def categorical_analysis(df,col,plot=False):\n",
    "    print(\"Analysis For {}\".format(col))\n",
    "    print(pd.DataFrame({col:df[col].value_counts(),\n",
    "                       \"Ratio\":100*df[col].value_counts()/len(df)}))\n",
    "    \n",
    "    if plot:\n",
    "        plt.figure(figsize=(10,10))\n",
    "        sns.countplot(x=df[col],data=df)\n",
    "        plt.title(col)\n",
    "        plt.xticks(rotation=45)\n",
    "        plt.show(block=True)\n",
    "        \n",
    "    print(\"-----------------------------------\")"
   ]
  },
  {
   "cell_type": "code",
   "execution_count": 12,
   "id": "82bbfcd3",
   "metadata": {
    "execution": {
     "iopub.execute_input": "2022-09-02T11:37:38.285836Z",
     "iopub.status.busy": "2022-09-02T11:37:38.285177Z",
     "iopub.status.idle": "2022-09-02T11:37:38.755653Z",
     "shell.execute_reply": "2022-09-02T11:37:38.754376Z"
    },
    "papermill": {
     "duration": 0.494993,
     "end_time": "2022-09-02T11:37:38.758052",
     "exception": false,
     "start_time": "2022-09-02T11:37:38.263059",
     "status": "completed"
    },
    "tags": []
   },
   "outputs": [
    {
     "name": "stdout",
     "output_type": "stream",
     "text": [
      "Analysis For Brand\n",
      "           Brand     Ratio\n",
      " Yeezy     72162 72.193765\n",
      "Off-White  27794 27.806235\n"
     ]
    },
    {
     "data": {
      "image/png": "[encoded data removed]",
      "text/plain": [
       "<Figure size 720x720 with 1 Axes>"
      ]
     },
     "metadata": {
      "needs_background": "light"
     },
     "output_type": "display_data"
    },
    {
     "name": "stdout",
     "output_type": "stream",
     "text": [
      "-----------------------------------\n",
      "Analysis For Retail Price\n",
      "            Retail Price     Ratio\n",
      "220.000000         71707 71.738565\n",
      "190.000000          7095  7.098123\n",
      "160.000000          6361  6.363800\n",
      "170.000000          5471  5.473408\n",
      "130.000000          3622  3.623594\n",
      "250.000000          3429  3.430509\n",
      "200.000000          2240  2.240986\n",
      "150.000000            31  0.031014\n"
     ]
    },
    {
     "data": {
      "image/png": "[encoded data removed]",
      "text/plain": [
       "<Figure size 720x720 with 1 Axes>"
      ]
     },
     "metadata": {
      "needs_background": "light"
     },
     "output_type": "display_data"
    },
    {
     "name": "stdout",
     "output_type": "stream",
     "text": [
      "-----------------------------------\n"
     ]
    }
   ],
   "source": [
    "for col in cat_col:\n",
    "    categorical_analysis(df,col,plot=True)"
   ]
  },
  {
   "cell_type": "markdown",
   "id": "e1caf256",
   "metadata": {
    "papermill": {
     "duration": 0.021512,
     "end_time": "2022-09-02T11:37:38.801276",
     "exception": false,
     "start_time": "2022-09-02T11:37:38.779764",
     "status": "completed"
    },
    "tags": []
   },
   "source": [
    "# Outlier Values"
   ]
  },
  {
   "cell_type": "code",
   "execution_count": 13,
   "id": "5366945d",
   "metadata": {
    "execution": {
     "iopub.execute_input": "2022-09-02T11:37:38.845963Z",
     "iopub.status.busy": "2022-09-02T11:37:38.845555Z",
     "iopub.status.idle": "2022-09-02T11:37:38.850820Z",
     "shell.execute_reply": "2022-09-02T11:37:38.849667Z"
    },
    "papermill": {
     "duration": 0.030159,
     "end_time": "2022-09-02T11:37:38.853054",
     "exception": false,
     "start_time": "2022-09-02T11:37:38.822895",
     "status": "completed"
    },
    "tags": []
   },
   "outputs": [],
   "source": [
    "qu1=0.1\n",
    "qu3 = 0.9"
   ]
  },
  {
   "cell_type": "markdown",
   "id": "5ce6ae79",
   "metadata": {
    "papermill": {
     "duration": 0.021149,
     "end_time": "2022-09-02T11:37:38.895548",
     "exception": false,
     "start_time": "2022-09-02T11:37:38.874399",
     "status": "completed"
    },
    "tags": []
   },
   "source": [
    "### I detected quantiles values  according to numerical analysis."
   ]
  },
  {
   "cell_type": "code",
   "execution_count": 14,
   "id": "b060be42",
   "metadata": {
    "execution": {
     "iopub.execute_input": "2022-09-02T11:37:38.940062Z",
     "iopub.status.busy": "2022-09-02T11:37:38.939672Z",
     "iopub.status.idle": "2022-09-02T11:37:38.947915Z",
     "shell.execute_reply": "2022-09-02T11:37:38.946791Z"
    },
    "papermill": {
     "duration": 0.033341,
     "end_time": "2022-09-02T11:37:38.950202",
     "exception": false,
     "start_time": "2022-09-02T11:37:38.916861",
     "status": "completed"
    },
    "tags": []
   },
   "outputs": [],
   "source": [
    "def outlier_thresholds(df,col,qu1=0.25,qu3=0.75):\n",
    "    q1 = df[col].quantile(qu1)\n",
    "    q3 = df[col].quantile(qu3)\n",
    "    \n",
    "    ıqr = q3 - q1\n",
    "    \n",
    "    low = q1 - 1.5*ıqr\n",
    "    up = q3 + 1.5*ıqr\n",
    "    \n",
    "    return low,up"
   ]
  },
  {
   "cell_type": "code",
   "execution_count": 15,
   "id": "34cb82e8",
   "metadata": {
    "execution": {
     "iopub.execute_input": "2022-09-02T11:37:38.995828Z",
     "iopub.status.busy": "2022-09-02T11:37:38.995400Z",
     "iopub.status.idle": "2022-09-02T11:37:39.001811Z",
     "shell.execute_reply": "2022-09-02T11:37:39.000754Z"
    },
    "papermill": {
     "duration": 0.031985,
     "end_time": "2022-09-02T11:37:39.003994",
     "exception": false,
     "start_time": "2022-09-02T11:37:38.972009",
     "status": "completed"
    },
    "tags": []
   },
   "outputs": [],
   "source": [
    "def outlier_check(df,col,qu1=0.25,qu3=0.75):\n",
    "    low,up = outlier_thresholds(df,col,qu1,qu3)\n",
    "    \n",
    "    if df[(df[col] < low) | (df[col] > up)].any(axis= None):\n",
    "        return True\n",
    "    else:\n",
    "        return False"
   ]
  },
  {
   "cell_type": "code",
   "execution_count": 16,
   "id": "77c9eccf",
   "metadata": {
    "execution": {
     "iopub.execute_input": "2022-09-02T11:37:39.048472Z",
     "iopub.status.busy": "2022-09-02T11:37:39.048031Z",
     "iopub.status.idle": "2022-09-02T11:37:39.093606Z",
     "shell.execute_reply": "2022-09-02T11:37:39.092121Z"
    },
    "papermill": {
     "duration": 0.070418,
     "end_time": "2022-09-02T11:37:39.095817",
     "exception": false,
     "start_time": "2022-09-02T11:37:39.025399",
     "status": "completed"
    },
    "tags": []
   },
   "outputs": [
    {
     "name": "stdout",
     "output_type": "stream",
     "text": [
      "Order Date False (Timestamp('2016-05-02 12:00:00'), Timestamp('2020-08-29 12:00:00'))\n",
      "Sale Price True (-500.0, 1500.0)\n",
      "Release Date False (Timestamp('2014-06-08 00:00:00'), Timestamp('2021-09-07 00:00:00'))\n",
      "Shoe Size False (-3.0, 21.0)\n"
     ]
    }
   ],
   "source": [
    "for col in num_col:\n",
    "    print(col,outlier_check(df,col,qu1,qu3),outlier_thresholds(df,col,qu1,qu3))"
   ]
  },
  {
   "cell_type": "code",
   "execution_count": 17,
   "id": "67b308fb",
   "metadata": {
    "execution": {
     "iopub.execute_input": "2022-09-02T11:37:39.142566Z",
     "iopub.status.busy": "2022-09-02T11:37:39.141644Z",
     "iopub.status.idle": "2022-09-02T11:37:39.148659Z",
     "shell.execute_reply": "2022-09-02T11:37:39.147333Z"
    },
    "papermill": {
     "duration": 0.033012,
     "end_time": "2022-09-02T11:37:39.150862",
     "exception": false,
     "start_time": "2022-09-02T11:37:39.117850",
     "status": "completed"
    },
    "tags": []
   },
   "outputs": [],
   "source": [
    "def number_of_outlier_values(df,col,qu1=0.25,qu3=0.75):\n",
    "    low,up = outlier_thresholds(df,col,qu1,qu3)\n",
    "    number = len(df[(df[col]<low) | (df[col]>up)])\n",
    "    if (number>0):\n",
    "        print(col,\": \",number)"
   ]
  },
  {
   "cell_type": "code",
   "execution_count": 18,
   "id": "67746c09",
   "metadata": {
    "execution": {
     "iopub.execute_input": "2022-09-02T11:37:39.195236Z",
     "iopub.status.busy": "2022-09-02T11:37:39.194836Z",
     "iopub.status.idle": "2022-09-02T11:37:39.220762Z",
     "shell.execute_reply": "2022-09-02T11:37:39.219369Z"
    },
    "papermill": {
     "duration": 0.050792,
     "end_time": "2022-09-02T11:37:39.222933",
     "exception": false,
     "start_time": "2022-09-02T11:37:39.172141",
     "status": "completed"
    },
    "tags": []
   },
   "outputs": [
    {
     "name": "stdout",
     "output_type": "stream",
     "text": [
      "Number Of Outlier Values\n",
      "Sale Price :  966\n"
     ]
    }
   ],
   "source": [
    "print(\"Number Of Outlier Values\")\n",
    "for col in num_col:\n",
    "    number_of_outlier_values(df,col,qu1,qu3)"
   ]
  },
  {
   "cell_type": "markdown",
   "id": "cb638a44",
   "metadata": {
    "papermill": {
     "duration": 0.021056,
     "end_time": "2022-09-02T11:37:39.265184",
     "exception": false,
     "start_time": "2022-09-02T11:37:39.244128",
     "status": "completed"
    },
    "tags": []
   },
   "source": [
    "### Sale Price is target value so we can't any operations"
   ]
  },
  {
   "cell_type": "markdown",
   "id": "78971631",
   "metadata": {
    "papermill": {
     "duration": 0.021101,
     "end_time": "2022-09-02T11:37:39.307821",
     "exception": false,
     "start_time": "2022-09-02T11:37:39.286720",
     "status": "completed"
    },
    "tags": []
   },
   "source": [
    "# NAN VALUES"
   ]
  },
  {
   "cell_type": "code",
   "execution_count": 19,
   "id": "1a09ac9d",
   "metadata": {
    "execution": {
     "iopub.execute_input": "2022-09-02T11:37:39.353785Z",
     "iopub.status.busy": "2022-09-02T11:37:39.352898Z",
     "iopub.status.idle": "2022-09-02T11:37:39.375988Z",
     "shell.execute_reply": "2022-09-02T11:37:39.374840Z"
    },
    "papermill": {
     "duration": 0.048239,
     "end_time": "2022-09-02T11:37:39.378391",
     "exception": false,
     "start_time": "2022-09-02T11:37:39.330152",
     "status": "completed"
    },
    "tags": []
   },
   "outputs": [
    {
     "data": {
      "text/plain": [
       "Order Date      0\n",
       "Brand           0\n",
       "Sneaker Name    0\n",
       "Sale Price      0\n",
       "Retail Price    0\n",
       "Release Date    0\n",
       "Shoe Size       0\n",
       "Buyer Region    0\n",
       "dtype: int64"
      ]
     },
     "execution_count": 19,
     "metadata": {},
     "output_type": "execute_result"
    }
   ],
   "source": [
    "df.isnull().sum()"
   ]
  },
  {
   "cell_type": "markdown",
   "id": "1e15341f",
   "metadata": {
    "papermill": {
     "duration": 0.021255,
     "end_time": "2022-09-02T11:37:39.421085",
     "exception": false,
     "start_time": "2022-09-02T11:37:39.399830",
     "status": "completed"
    },
    "tags": []
   },
   "source": [
    "### We haven`t any nan values"
   ]
  },
  {
   "cell_type": "code",
   "execution_count": 20,
   "id": "179000aa",
   "metadata": {
    "execution": {
     "iopub.execute_input": "2022-09-02T11:37:39.466761Z",
     "iopub.status.busy": "2022-09-02T11:37:39.465752Z",
     "iopub.status.idle": "2022-09-02T11:37:39.478747Z",
     "shell.execute_reply": "2022-09-02T11:37:39.477966Z"
    },
    "papermill": {
     "duration": 0.037836,
     "end_time": "2022-09-02T11:37:39.480851",
     "exception": false,
     "start_time": "2022-09-02T11:37:39.443015",
     "status": "completed"
    },
    "tags": []
   },
   "outputs": [
    {
     "data": {
      "text/plain": [
       "array([' Yeezy', 'Off-White'], dtype=object)"
      ]
     },
     "execution_count": 20,
     "metadata": {},
     "output_type": "execute_result"
    }
   ],
   "source": [
    "df[\"Brand\"].unique()"
   ]
  },
  {
   "cell_type": "markdown",
   "id": "ca36fb83",
   "metadata": {
    "papermill": {
     "duration": 0.02136,
     "end_time": "2022-09-02T11:37:39.523872",
     "exception": false,
     "start_time": "2022-09-02T11:37:39.502512",
     "status": "completed"
    },
    "tags": []
   },
   "source": [
    "# Feature Extraction And Feature Interaction"
   ]
  },
  {
   "cell_type": "code",
   "execution_count": 21,
   "id": "2eedbc04",
   "metadata": {
    "execution": {
     "iopub.execute_input": "2022-09-02T11:37:39.569663Z",
     "iopub.status.busy": "2022-09-02T11:37:39.568982Z",
     "iopub.status.idle": "2022-09-02T11:37:42.983562Z",
     "shell.execute_reply": "2022-09-02T11:37:42.982598Z"
    },
    "papermill": {
     "duration": 3.440612,
     "end_time": "2022-09-02T11:37:42.986273",
     "exception": false,
     "start_time": "2022-09-02T11:37:39.545661",
     "status": "completed"
    },
    "tags": []
   },
   "outputs": [],
   "source": [
    "#Create new feature\n",
    "df[\"Price Ratio\"] = df[\"Sale Price\"] / df[\"Retail Price\"]\n",
    "\n",
    "df[\"Boost\"] = df[\"Sneaker Name\"].apply(lambda x: 1 if \"Boost\" in x.split(\"-\") else 0)\n",
    "df[\"Jordan\"] = df[\"Sneaker Name\"].apply(lambda x: 1 if \"Jordan\" in x.split(\"-\") else 0)\n",
    "df[\"V2\"] = df[\"Sneaker Name\"].apply(lambda x: 1 if \"V2\" in x.split(\"-\") else 0)\n",
    "df[\"Core\"] = df[\"Sneaker Name\"].apply(lambda x: 1 if \"Core\" in x.split(\"-\") else 0)\n",
    "df[\"Low\"] = df[\"Sneaker Name\"].apply(lambda x: 1 if \"Low\" in x.split(\"-\") else 0)\n",
    "df[\"350\"] = df[\"Sneaker Name\"].apply(lambda x: 1 if \"350\" in x.split(\"-\") else 0)\n",
    "df[\"Adidas\"] = df[\"Sneaker Name\"].apply(lambda x: 1 if \"Adidas\" or \"adidas\" in x.split(\"-\") else 0)\n",
    "df[\"Nike\"] = df[\"Sneaker Name\"].apply(lambda x: 1 if \"Nike\" in x.split(\"-\") else 0)\n",
    "df[\"Air\"] = df[\"Sneaker Name\"].apply(lambda x: 1 if \"Air\" in x.split(\"-\") else 0)\n",
    "df[\"Zoom\"] = df[\"Sneaker Name\"].apply(lambda x: 1 if \"Zoom\" in x.split(\"-\") else 0)\n",
    "df[\"Blazer\"] = df[\"Sneaker Name\"].apply(lambda x: 1 if \"Blazer\" in x.split(\"-\") else 0)\n",
    "df[\"Retro\"] = df[\"Sneaker Name\"].apply(lambda x: 1 if \"Retro\" in x.split(\"-\") else 0)\n",
    "df[\"Force\"] = df[\"Sneaker Name\"].apply(lambda x: 1 if \"Force\" in x.split(\"-\") else 0)\n",
    "df[\"Max\"] = df[\"Sneaker Name\"].apply(lambda x: 1 if \"Max\" in x.split(\"-\") else 0)\n",
    "df[\"Black\"] = df[\"Sneaker Name\"].apply(lambda x: 1 if \"Black\" in x.split(\"-\") else 0)\n",
    "df[\"Vapormax\"] = df[\"Sneaker Name\"].apply(lambda x: 1 if \"Vapormax\" in x.split(\"-\") else 0)\n",
    "\n",
    "df[\"date_diff\"] = df['Order Date'].sub(df['Release Date'], axis=0)/np.timedelta64('1','D')\n",
    "df.drop(\"Order Date\",axis=1,inplace=True)\n",
    "df.drop(\"Release Date\",axis=1,inplace=True)\n",
    "\n",
    "unique_region = list(df[\"Buyer Region\"].unique())\n",
    "\n",
    "for region in unique_region:\n",
    "    df[region] = df[\"Buyer Region\"].apply(lambda x:1 if x == region else 0)\n",
    "df.drop(\"Buyer Region\",axis=1,inplace=True)"
   ]
  },
  {
   "cell_type": "code",
   "execution_count": 22,
   "id": "876b26dd",
   "metadata": {
    "execution": {
     "iopub.execute_input": "2022-09-02T11:37:43.032523Z",
     "iopub.status.busy": "2022-09-02T11:37:43.032063Z",
     "iopub.status.idle": "2022-09-02T11:37:43.064965Z",
     "shell.execute_reply": "2022-09-02T11:37:43.063790Z"
    },
    "papermill": {
     "duration": 0.058541,
     "end_time": "2022-09-02T11:37:43.067231",
     "exception": false,
     "start_time": "2022-09-02T11:37:43.008690",
     "status": "completed"
    },
    "tags": []
   },
   "outputs": [
    {
     "data": {
      "text/html": [
       "<div>\n",
       "<style scoped>\n",
       "    .dataframe tbody tr th:only-of-type {\n",
       "        vertical-align: middle;\n",
       "    }\n",
       "\n",
       "    .dataframe tbody tr th {\n",
       "        vertical-align: top;\n",
       "    }\n",
       "\n",
       "    .dataframe thead th {\n",
       "        text-align: right;\n",
       "    }\n",
       "</style>\n",
       "<table border=\"1\" class=\"dataframe\">\n",
       "  <thead>\n",
       "    <tr style=\"text-align: right;\">\n",
       "      <th></th>\n",
       "      <th>Brand</th>\n",
       "      <th>Sneaker Name</th>\n",
       "      <th>Sale Price</th>\n",
       "      <th>Retail Price</th>\n",
       "      <th>Shoe Size</th>\n",
       "      <th>Price Ratio</th>\n",
       "      <th>Boost</th>\n",
       "      <th>Jordan</th>\n",
       "      <th>V2</th>\n",
       "      <th>Core</th>\n",
       "      <th>Low</th>\n",
       "      <th>350</th>\n",
       "      <th>Adidas</th>\n",
       "      <th>Nike</th>\n",
       "      <th>Air</th>\n",
       "      <th>Zoom</th>\n",
       "      <th>Blazer</th>\n",
       "      <th>Retro</th>\n",
       "      <th>Force</th>\n",
       "      <th>Max</th>\n",
       "      <th>Black</th>\n",
       "      <th>Vapormax</th>\n",
       "      <th>date_diff</th>\n",
       "      <th>California</th>\n",
       "      <th>Kentucky</th>\n",
       "      <th>...</th>\n",
       "      <th>South Carolina</th>\n",
       "      <th>Maine</th>\n",
       "      <th>Illinois</th>\n",
       "      <th>Nevada</th>\n",
       "      <th>Maryland</th>\n",
       "      <th>Arizona</th>\n",
       "      <th>Minnesota</th>\n",
       "      <th>Iowa</th>\n",
       "      <th>Tennessee</th>\n",
       "      <th>West Virginia</th>\n",
       "      <th>Indiana</th>\n",
       "      <th>Arkansas</th>\n",
       "      <th>Alaska</th>\n",
       "      <th>Wyoming</th>\n",
       "      <th>Utah</th>\n",
       "      <th>New Hampshire</th>\n",
       "      <th>Vermont</th>\n",
       "      <th>District of Columbia</th>\n",
       "      <th>Hawaii</th>\n",
       "      <th>New Mexico</th>\n",
       "      <th>South Dakota</th>\n",
       "      <th>Mississippi</th>\n",
       "      <th>North Dakota</th>\n",
       "      <th>Idaho</th>\n",
       "      <th>Montana</th>\n",
       "    </tr>\n",
       "  </thead>\n",
       "  <tbody>\n",
       "    <tr>\n",
       "      <th>0</th>\n",
       "      <td>Yeezy</td>\n",
       "      <td>Adidas-Yeezy-Boost-350-Low-V2-Beluga</td>\n",
       "      <td>1097.000000</td>\n",
       "      <td>220.000000</td>\n",
       "      <td>11.000000</td>\n",
       "      <td>4.986364</td>\n",
       "      <td>1</td>\n",
       "      <td>0</td>\n",
       "      <td>1</td>\n",
       "      <td>0</td>\n",
       "      <td>1</td>\n",
       "      <td>1</td>\n",
       "      <td>1</td>\n",
       "      <td>0</td>\n",
       "      <td>0</td>\n",
       "      <td>0</td>\n",
       "      <td>0</td>\n",
       "      <td>0</td>\n",
       "      <td>0</td>\n",
       "      <td>0</td>\n",
       "      <td>0</td>\n",
       "      <td>0</td>\n",
       "      <td>342.000000</td>\n",
       "      <td>1</td>\n",
       "      <td>0</td>\n",
       "      <td>...</td>\n",
       "      <td>0</td>\n",
       "      <td>0</td>\n",
       "      <td>0</td>\n",
       "      <td>0</td>\n",
       "      <td>0</td>\n",
       "      <td>0</td>\n",
       "      <td>0</td>\n",
       "      <td>0</td>\n",
       "      <td>0</td>\n",
       "      <td>0</td>\n",
       "      <td>0</td>\n",
       "      <td>0</td>\n",
       "      <td>0</td>\n",
       "      <td>0</td>\n",
       "      <td>0</td>\n",
       "      <td>0</td>\n",
       "      <td>0</td>\n",
       "      <td>0</td>\n",
       "      <td>0</td>\n",
       "      <td>0</td>\n",
       "      <td>0</td>\n",
       "      <td>0</td>\n",
       "      <td>0</td>\n",
       "      <td>0</td>\n",
       "      <td>0</td>\n",
       "    </tr>\n",
       "    <tr>\n",
       "      <th>1</th>\n",
       "      <td>Yeezy</td>\n",
       "      <td>Adidas-Yeezy-Boost-350-V2-Core-Black-Copper</td>\n",
       "      <td>685.000000</td>\n",
       "      <td>220.000000</td>\n",
       "      <td>11.000000</td>\n",
       "      <td>3.113636</td>\n",
       "      <td>1</td>\n",
       "      <td>0</td>\n",
       "      <td>1</td>\n",
       "      <td>1</td>\n",
       "      <td>0</td>\n",
       "      <td>1</td>\n",
       "      <td>1</td>\n",
       "      <td>0</td>\n",
       "      <td>0</td>\n",
       "      <td>0</td>\n",
       "      <td>0</td>\n",
       "      <td>0</td>\n",
       "      <td>0</td>\n",
       "      <td>0</td>\n",
       "      <td>1</td>\n",
       "      <td>0</td>\n",
       "      <td>282.000000</td>\n",
       "      <td>1</td>\n",
       "      <td>0</td>\n",
       "      <td>...</td>\n",
       "      <td>0</td>\n",
       "      <td>0</td>\n",
       "      <td>0</td>\n",
       "      <td>0</td>\n",
       "      <td>0</td>\n",
       "      <td>0</td>\n",
       "      <td>0</td>\n",
       "      <td>0</td>\n",
       "      <td>0</td>\n",
       "      <td>0</td>\n",
       "      <td>0</td>\n",
       "      <td>0</td>\n",
       "      <td>0</td>\n",
       "      <td>0</td>\n",
       "      <td>0</td>\n",
       "      <td>0</td>\n",
       "      <td>0</td>\n",
       "      <td>0</td>\n",
       "      <td>0</td>\n",
       "      <td>0</td>\n",
       "      <td>0</td>\n",
       "      <td>0</td>\n",
       "      <td>0</td>\n",
       "      <td>0</td>\n",
       "      <td>0</td>\n",
       "    </tr>\n",
       "    <tr>\n",
       "      <th>2</th>\n",
       "      <td>Yeezy</td>\n",
       "      <td>Adidas-Yeezy-Boost-350-V2-Core-Black-Green</td>\n",
       "      <td>690.000000</td>\n",
       "      <td>220.000000</td>\n",
       "      <td>11.000000</td>\n",
       "      <td>3.136364</td>\n",
       "      <td>1</td>\n",
       "      <td>0</td>\n",
       "      <td>1</td>\n",
       "      <td>1</td>\n",
       "      <td>0</td>\n",
       "      <td>1</td>\n",
       "      <td>1</td>\n",
       "      <td>0</td>\n",
       "      <td>0</td>\n",
       "      <td>0</td>\n",
       "      <td>0</td>\n",
       "      <td>0</td>\n",
       "      <td>0</td>\n",
       "      <td>0</td>\n",
       "      <td>1</td>\n",
       "      <td>0</td>\n",
       "      <td>282.000000</td>\n",
       "      <td>1</td>\n",
       "      <td>0</td>\n",
       "      <td>...</td>\n",
       "      <td>0</td>\n",
       "      <td>0</td>\n",
       "      <td>0</td>\n",
       "      <td>0</td>\n",
       "      <td>0</td>\n",
       "      <td>0</td>\n",
       "      <td>0</td>\n",
       "      <td>0</td>\n",
       "      <td>0</td>\n",
       "      <td>0</td>\n",
       "      <td>0</td>\n",
       "      <td>0</td>\n",
       "      <td>0</td>\n",
       "      <td>0</td>\n",
       "      <td>0</td>\n",
       "      <td>0</td>\n",
       "      <td>0</td>\n",
       "      <td>0</td>\n",
       "      <td>0</td>\n",
       "      <td>0</td>\n",
       "      <td>0</td>\n",
       "      <td>0</td>\n",
       "      <td>0</td>\n",
       "      <td>0</td>\n",
       "      <td>0</td>\n",
       "    </tr>\n",
       "    <tr>\n",
       "      <th>3</th>\n",
       "      <td>Yeezy</td>\n",
       "      <td>Adidas-Yeezy-Boost-350-V2-Core-Black-Red</td>\n",
       "      <td>1075.000000</td>\n",
       "      <td>220.000000</td>\n",
       "      <td>11.500000</td>\n",
       "      <td>4.886364</td>\n",
       "      <td>1</td>\n",
       "      <td>0</td>\n",
       "      <td>1</td>\n",
       "      <td>1</td>\n",
       "      <td>0</td>\n",
       "      <td>1</td>\n",
       "      <td>1</td>\n",
       "      <td>0</td>\n",
       "      <td>0</td>\n",
       "      <td>0</td>\n",
       "      <td>0</td>\n",
       "      <td>0</td>\n",
       "      <td>0</td>\n",
       "      <td>0</td>\n",
       "      <td>1</td>\n",
       "      <td>0</td>\n",
       "      <td>282.000000</td>\n",
       "      <td>0</td>\n",
       "      <td>1</td>\n",
       "      <td>...</td>\n",
       "      <td>0</td>\n",
       "      <td>0</td>\n",
       "      <td>0</td>\n",
       "      <td>0</td>\n",
       "      <td>0</td>\n",
       "      <td>0</td>\n",
       "      <td>0</td>\n",
       "      <td>0</td>\n",
       "      <td>0</td>\n",
       "      <td>0</td>\n",
       "      <td>0</td>\n",
       "      <td>0</td>\n",
       "      <td>0</td>\n",
       "      <td>0</td>\n",
       "      <td>0</td>\n",
       "      <td>0</td>\n",
       "      <td>0</td>\n",
       "      <td>0</td>\n",
       "      <td>0</td>\n",
       "      <td>0</td>\n",
       "      <td>0</td>\n",
       "      <td>0</td>\n",
       "      <td>0</td>\n",
       "      <td>0</td>\n",
       "      <td>0</td>\n",
       "    </tr>\n",
       "    <tr>\n",
       "      <th>4</th>\n",
       "      <td>Yeezy</td>\n",
       "      <td>Adidas-Yeezy-Boost-350-V2-Core-Black-Red-2017</td>\n",
       "      <td>828.000000</td>\n",
       "      <td>220.000000</td>\n",
       "      <td>11.000000</td>\n",
       "      <td>3.763636</td>\n",
       "      <td>1</td>\n",
       "      <td>0</td>\n",
       "      <td>1</td>\n",
       "      <td>1</td>\n",
       "      <td>0</td>\n",
       "      <td>1</td>\n",
       "      <td>1</td>\n",
       "      <td>0</td>\n",
       "      <td>0</td>\n",
       "      <td>0</td>\n",
       "      <td>0</td>\n",
       "      <td>0</td>\n",
       "      <td>0</td>\n",
       "      <td>0</td>\n",
       "      <td>1</td>\n",
       "      <td>0</td>\n",
       "      <td>202.000000</td>\n",
       "      <td>0</td>\n",
       "      <td>0</td>\n",
       "      <td>...</td>\n",
       "      <td>0</td>\n",
       "      <td>0</td>\n",
       "      <td>0</td>\n",
       "      <td>0</td>\n",
       "      <td>0</td>\n",
       "      <td>0</td>\n",
       "      <td>0</td>\n",
       "      <td>0</td>\n",
       "      <td>0</td>\n",
       "      <td>0</td>\n",
       "      <td>0</td>\n",
       "      <td>0</td>\n",
       "      <td>0</td>\n",
       "      <td>0</td>\n",
       "      <td>0</td>\n",
       "      <td>0</td>\n",
       "      <td>0</td>\n",
       "      <td>0</td>\n",
       "      <td>0</td>\n",
       "      <td>0</td>\n",
       "      <td>0</td>\n",
       "      <td>0</td>\n",
       "      <td>0</td>\n",
       "      <td>0</td>\n",
       "      <td>0</td>\n",
       "    </tr>\n",
       "  </tbody>\n",
       "</table>\n",
       "<p>5 rows × 74 columns</p>\n",
       "</div>"
      ],
      "text/plain": [
       "    Brand                                   Sneaker Name  Sale Price  \\\n",
       "0   Yeezy           Adidas-Yeezy-Boost-350-Low-V2-Beluga 1097.000000   \n",
       "1   Yeezy    Adidas-Yeezy-Boost-350-V2-Core-Black-Copper  685.000000   \n",
       "2   Yeezy     Adidas-Yeezy-Boost-350-V2-Core-Black-Green  690.000000   \n",
       "3   Yeezy       Adidas-Yeezy-Boost-350-V2-Core-Black-Red 1075.000000   \n",
       "4   Yeezy  Adidas-Yeezy-Boost-350-V2-Core-Black-Red-2017  828.000000   \n",
       "\n",
       "   Retail Price  Shoe Size  Price Ratio  Boost  Jordan  V2  Core  Low  350  \\\n",
       "0    220.000000  11.000000     4.986364      1       0   1     0    1    1   \n",
       "1    220.000000  11.000000     3.113636      1       0   1     1    0    1   \n",
       "2    220.000000  11.000000     3.136364      1       0   1     1    0    1   \n",
       "3    220.000000  11.500000     4.886364      1       0   1     1    0    1   \n",
       "4    220.000000  11.000000     3.763636      1       0   1     1    0    1   \n",
       "\n",
       "   Adidas  Nike  Air  Zoom  Blazer  Retro  Force  Max  Black  Vapormax  \\\n",
       "0       1     0    0     0       0      0      0    0      0         0   \n",
       "1       1     0    0     0       0      0      0    0      1         0   \n",
       "2       1     0    0     0       0      0      0    0      1         0   \n",
       "3       1     0    0     0       0      0      0    0      1         0   \n",
       "4       1     0    0     0       0      0      0    0      1         0   \n",
       "\n",
       "   date_diff  California  Kentucky  ...  South Carolina  Maine  Illinois  \\\n",
       "0 342.000000           1         0  ...               0      0         0   \n",
       "1 282.000000           1         0  ...               0      0         0   \n",
       "2 282.000000           1         0  ...               0      0         0   \n",
       "3 282.000000           0         1  ...               0      0         0   \n",
       "4 202.000000           0         0  ...               0      0         0   \n",
       "\n",
       "   Nevada  Maryland  Arizona  Minnesota  Iowa  Tennessee  West Virginia  \\\n",
       "0       0         0        0          0     0          0              0   \n",
       "1       0         0        0          0     0          0              0   \n",
       "2       0         0        0          0     0          0              0   \n",
       "3       0         0        0          0     0          0              0   \n",
       "4       0         0        0          0     0          0              0   \n",
       "\n",
       "   Indiana  Arkansas  Alaska  Wyoming  Utah  New Hampshire  Vermont  \\\n",
       "0        0         0       0        0     0              0        0   \n",
       "1        0         0       0        0     0              0        0   \n",
       "2        0         0       0        0     0              0        0   \n",
       "3        0         0       0        0     0              0        0   \n",
       "4        0         0       0        0     0              0        0   \n",
       "\n",
       "   District of Columbia  Hawaii  New Mexico  South Dakota  Mississippi  \\\n",
       "0                     0       0           0             0            0   \n",
       "1                     0       0           0             0            0   \n",
       "2                     0       0           0             0            0   \n",
       "3                     0       0           0             0            0   \n",
       "4                     0       0           0             0            0   \n",
       "\n",
       "   North Dakota  Idaho  Montana  \n",
       "0             0      0        0  \n",
       "1             0      0        0  \n",
       "2             0      0        0  \n",
       "3             0      0        0  \n",
       "4             0      0        0  \n",
       "\n",
       "[5 rows x 74 columns]"
      ]
     },
     "execution_count": 22,
     "metadata": {},
     "output_type": "execute_result"
    }
   ],
   "source": [
    "df.head()"
   ]
  },
  {
   "cell_type": "code",
   "execution_count": 23,
   "id": "abd78c6d",
   "metadata": {
    "execution": {
     "iopub.execute_input": "2022-09-02T11:37:43.113463Z",
     "iopub.status.busy": "2022-09-02T11:37:43.113031Z",
     "iopub.status.idle": "2022-09-02T11:37:43.468385Z",
     "shell.execute_reply": "2022-09-02T11:37:43.467235Z"
    },
    "papermill": {
     "duration": 0.381552,
     "end_time": "2022-09-02T11:37:43.471008",
     "exception": false,
     "start_time": "2022-09-02T11:37:43.089456",
     "status": "completed"
    },
    "tags": []
   },
   "outputs": [
    {
     "name": "stdout",
     "output_type": "stream",
     "text": [
      "########### HEAD ###########\n",
      "    Brand                                   Sneaker Name  Sale Price  \\\n",
      "0   Yeezy           Adidas-Yeezy-Boost-350-Low-V2-Beluga 1097.000000   \n",
      "1   Yeezy    Adidas-Yeezy-Boost-350-V2-Core-Black-Copper  685.000000   \n",
      "2   Yeezy     Adidas-Yeezy-Boost-350-V2-Core-Black-Green  690.000000   \n",
      "3   Yeezy       Adidas-Yeezy-Boost-350-V2-Core-Black-Red 1075.000000   \n",
      "4   Yeezy  Adidas-Yeezy-Boost-350-V2-Core-Black-Red-2017  828.000000   \n",
      "\n",
      "   Retail Price  Shoe Size  Price Ratio  Boost  Jordan  V2  Core  Low  350  \\\n",
      "0    220.000000  11.000000     4.986364      1       0   1     0    1    1   \n",
      "1    220.000000  11.000000     3.113636      1       0   1     1    0    1   \n",
      "2    220.000000  11.000000     3.136364      1       0   1     1    0    1   \n",
      "3    220.000000  11.500000     4.886364      1       0   1     1    0    1   \n",
      "4    220.000000  11.000000     3.763636      1       0   1     1    0    1   \n",
      "\n",
      "   Adidas  Nike  Air  Zoom  Blazer  Retro  Force  Max  Black  Vapormax  \\\n",
      "0       1     0    0     0       0      0      0    0      0         0   \n",
      "1       1     0    0     0       0      0      0    0      1         0   \n",
      "2       1     0    0     0       0      0      0    0      1         0   \n",
      "3       1     0    0     0       0      0      0    0      1         0   \n",
      "4       1     0    0     0       0      0      0    0      1         0   \n",
      "\n",
      "   date_diff  California  Kentucky  ...  South Carolina  Maine  Illinois  \\\n",
      "0 342.000000           1         0  ...               0      0         0   \n",
      "1 282.000000           1         0  ...               0      0         0   \n",
      "2 282.000000           1         0  ...               0      0         0   \n",
      "3 282.000000           0         1  ...               0      0         0   \n",
      "4 202.000000           0         0  ...               0      0         0   \n",
      "\n",
      "   Nevada  Maryland  Arizona  Minnesota  Iowa  Tennessee  West Virginia  \\\n",
      "0       0         0        0          0     0          0              0   \n",
      "1       0         0        0          0     0          0              0   \n",
      "2       0         0        0          0     0          0              0   \n",
      "3       0         0        0          0     0          0              0   \n",
      "4       0         0        0          0     0          0              0   \n",
      "\n",
      "   Indiana  Arkansas  Alaska  Wyoming  Utah  New Hampshire  Vermont  \\\n",
      "0        0         0       0        0     0              0        0   \n",
      "1        0         0       0        0     0              0        0   \n",
      "2        0         0       0        0     0              0        0   \n",
      "3        0         0       0        0     0              0        0   \n",
      "4        0         0       0        0     0              0        0   \n",
      "\n",
      "   District of Columbia  Hawaii  New Mexico  South Dakota  Mississippi  \\\n",
      "0                     0       0           0             0            0   \n",
      "1                     0       0           0             0            0   \n",
      "2                     0       0           0             0            0   \n",
      "3                     0       0           0             0            0   \n",
      "4                     0       0           0             0            0   \n",
      "\n",
      "   North Dakota  Idaho  Montana  \n",
      "0             0      0        0  \n",
      "1             0      0        0  \n",
      "2             0      0        0  \n",
      "3             0      0        0  \n",
      "4             0      0        0  \n",
      "\n",
      "[5 rows x 74 columns]\n",
      "########### TAIL ###########\n",
      "        Brand                                 Sneaker Name  Sale Price  \\\n",
      "99951   Yeezy  adidas-Yeezy-Boost-350-V2-Static-Reflective  565.000000   \n",
      "99952   Yeezy  adidas-Yeezy-Boost-350-V2-Static-Reflective  598.000000   \n",
      "99953   Yeezy  adidas-Yeezy-Boost-350-V2-Static-Reflective  605.000000   \n",
      "99954   Yeezy  adidas-Yeezy-Boost-350-V2-Static-Reflective  650.000000   \n",
      "99955   Yeezy  adidas-Yeezy-Boost-350-V2-Static-Reflective  640.000000   \n",
      "\n",
      "       Retail Price  Shoe Size  Price Ratio  Boost  Jordan  V2  Core  Low  \\\n",
      "99951    220.000000   8.000000     2.568182      1       0   1     0    0   \n",
      "99952    220.000000   8.500000     2.718182      1       0   1     0    0   \n",
      "99953    220.000000   5.500000     2.750000      1       0   1     0    0   \n",
      "99954    220.000000  11.000000     2.954545      1       0   1     0    0   \n",
      "99955    220.000000  11.500000     2.909091      1       0   1     0    0   \n",
      "\n",
      "       350  Adidas  Nike  Air  Zoom  Blazer  Retro  Force  Max  Black  \\\n",
      "99951    1       1     0    0     0       0      0      0    0      0   \n",
      "99952    1       1     0    0     0       0      0      0    0      0   \n",
      "99953    1       1     0    0     0       0      0      0    0      0   \n",
      "99954    1       1     0    0     0       0      0      0    0      0   \n",
      "99955    1       1     0    0     0       0      0      0    0      0   \n",
      "\n",
      "       Vapormax  date_diff  California  Kentucky  ...  South Carolina  Maine  \\\n",
      "99951         0  49.000000           0         0  ...               0      0   \n",
      "99952         0  49.000000           1         0  ...               0      0   \n",
      "99953         0  49.000000           0         0  ...               0      0   \n",
      "99954         0  49.000000           1         0  ...               0      0   \n",
      "99955         0  49.000000           0         0  ...               0      0   \n",
      "\n",
      "       Illinois  Nevada  Maryland  Arizona  Minnesota  Iowa  Tennessee  \\\n",
      "99951         0       0         0        0          0     0          0   \n",
      "99952         0       0         0        0          0     0          0   \n",
      "99953         0       0         0        0          0     0          0   \n",
      "99954         0       0         0        0          0     0          0   \n",
      "99955         0       0         0        0          0     0          0   \n",
      "\n",
      "       West Virginia  Indiana  Arkansas  Alaska  Wyoming  Utah  New Hampshire  \\\n",
      "99951              0        0         0       0        0     0              0   \n",
      "99952              0        0         0       0        0     0              0   \n",
      "99953              0        0         0       0        0     0              0   \n",
      "99954              0        0         0       0        0     0              0   \n",
      "99955              0        0         0       0        0     0              0   \n",
      "\n",
      "       Vermont  District of Columbia  Hawaii  New Mexico  South Dakota  \\\n",
      "99951        0                     0       0           0             0   \n",
      "99952        0                     0       0           0             0   \n",
      "99953        0                     0       0           0             0   \n",
      "99954        0                     0       0           0             0   \n",
      "99955        0                     0       0           0             0   \n",
      "\n",
      "       Mississippi  North Dakota  Idaho  Montana  \n",
      "99951            0             0      0        0  \n",
      "99952            0             0      0        0  \n",
      "99953            0             0      0        0  \n",
      "99954            0             0      0        0  \n",
      "99955            0             0      0        0  \n",
      "\n",
      "[5 rows x 74 columns]\n",
      "########### INFO ###########\n",
      "<class 'pandas.core.frame.DataFrame'>\n",
      "RangeIndex: 99956 entries, 0 to 99955\n",
      "Data columns (total 74 columns):\n",
      " #   Column                Non-Null Count  Dtype  \n",
      "---  ------                --------------  -----  \n",
      " 0   Brand                 99956 non-null  object \n",
      " 1   Sneaker Name          99956 non-null  object \n",
      " 2   Sale Price            99956 non-null  float64\n",
      " 3   Retail Price          99956 non-null  float64\n",
      " 4   Shoe Size             99956 non-null  float64\n",
      " 5   Price Ratio           99956 non-null  float64\n",
      " 6   Boost                 99956 non-null  int64  \n",
      " 7   Jordan                99956 non-null  int64  \n",
      " 8   V2                    99956 non-null  int64  \n",
      " 9   Core                  99956 non-null  int64  \n",
      " 10  Low                   99956 non-null  int64  \n",
      " 11  350                   99956 non-null  int64  \n",
      " 12  Adidas                99956 non-null  int64  \n",
      " 13  Nike                  99956 non-null  int64  \n",
      " 14  Air                   99956 non-null  int64  \n",
      " 15  Zoom                  99956 non-null  int64  \n",
      " 16  Blazer                99956 non-null  int64  \n",
      " 17  Retro                 99956 non-null  int64  \n",
      " 18  Force                 99956 non-null  int64  \n",
      " 19  Max                   99956 non-null  int64  \n",
      " 20  Black                 99956 non-null  int64  \n",
      " 21  Vapormax              99956 non-null  int64  \n",
      " 22  date_diff             99956 non-null  float64\n",
      " 23  California            99956 non-null  int64  \n",
      " 24  Kentucky              99956 non-null  int64  \n",
      " 25  Rhode Island          99956 non-null  int64  \n",
      " 26  Michigan              99956 non-null  int64  \n",
      " 27  New York              99956 non-null  int64  \n",
      " 28  Kansas                99956 non-null  int64  \n",
      " 29  Florida               99956 non-null  int64  \n",
      " 30  New Jersey            99956 non-null  int64  \n",
      " 31  Texas                 99956 non-null  int64  \n",
      " 32  North Carolina        99956 non-null  int64  \n",
      " 33  Oregon                99956 non-null  int64  \n",
      " 34  Alabama               99956 non-null  int64  \n",
      " 35  Delaware              99956 non-null  int64  \n",
      " 36  Virginia              99956 non-null  int64  \n",
      " 37  Wisconsin             99956 non-null  int64  \n",
      " 38  Colorado              99956 non-null  int64  \n",
      " 39  Massachusetts         99956 non-null  int64  \n",
      " 40  Pennsylvania          99956 non-null  int64  \n",
      " 41  Louisiana             99956 non-null  int64  \n",
      " 42  Washington            99956 non-null  int64  \n",
      " 43  Georgia               99956 non-null  int64  \n",
      " 44  Ohio                  99956 non-null  int64  \n",
      " 45  Nebraska              99956 non-null  int64  \n",
      " 46  Oklahoma              99956 non-null  int64  \n",
      " 47  Connecticut           99956 non-null  int64  \n",
      " 48  Missouri              99956 non-null  int64  \n",
      " 49  South Carolina        99956 non-null  int64  \n",
      " 50  Maine                 99956 non-null  int64  \n",
      " 51  Illinois              99956 non-null  int64  \n",
      " 52  Nevada                99956 non-null  int64  \n",
      " 53  Maryland              99956 non-null  int64  \n",
      " 54  Arizona               99956 non-null  int64  \n",
      " 55  Minnesota             99956 non-null  int64  \n",
      " 56  Iowa                  99956 non-null  int64  \n",
      " 57  Tennessee             99956 non-null  int64  \n",
      " 58  West Virginia         99956 non-null  int64  \n",
      " 59  Indiana               99956 non-null  int64  \n",
      " 60  Arkansas              99956 non-null  int64  \n",
      " 61  Alaska                99956 non-null  int64  \n",
      " 62  Wyoming               99956 non-null  int64  \n",
      " 63  Utah                  99956 non-null  int64  \n",
      " 64  New Hampshire         99956 non-null  int64  \n",
      " 65  Vermont               99956 non-null  int64  \n",
      " 66  District of Columbia  99956 non-null  int64  \n",
      " 67  Hawaii                99956 non-null  int64  \n",
      " 68  New Mexico            99956 non-null  int64  \n",
      " 69  South Dakota          99956 non-null  int64  \n",
      " 70  Mississippi           99956 non-null  int64  \n",
      " 71  North Dakota          99956 non-null  int64  \n",
      " 72  Idaho                 99956 non-null  int64  \n",
      " 73  Montana               99956 non-null  int64  \n",
      "dtypes: float64(5), int64(67), object(2)\n",
      "memory usage: 56.4+ MB\n",
      "########### DESCRIBE ###########\n",
      "        Sale Price  Retail Price    Shoe Size  Price Ratio        Boost  \\\n",
      "count 99956.000000  99956.000000 99956.000000 99956.000000 99956.000000   \n",
      "mean    446.634719    208.613590     9.344181     2.248245     0.721938   \n",
      "std     255.982969     25.200010     2.329588     1.508563     0.448047   \n",
      "min     186.000000    130.000000     3.500000     0.845455     0.000000   \n",
      "25%     275.000000    220.000000     8.000000     1.263636     0.000000   \n",
      "50%     370.000000    220.000000     9.500000     1.704545     1.000000   \n",
      "75%     540.000000    220.000000    11.000000     2.613636     1.000000   \n",
      "max    4050.000000    250.000000    17.000000    21.315789     1.000000   \n",
      "\n",
      "            Jordan           V2         Core          Low          350  \\\n",
      "count 99956.000000 99956.000000 99956.000000 99956.000000 99956.000000   \n",
      "mean      0.057055     0.717386     0.023140     0.034405     0.721938   \n",
      "std       0.231949     0.450273     0.150349     0.182268     0.448047   \n",
      "min       0.000000     0.000000     0.000000     0.000000     0.000000   \n",
      "25%       0.000000     0.000000     0.000000     0.000000     0.000000   \n",
      "50%       0.000000     1.000000     0.000000     0.000000     1.000000   \n",
      "75%       0.000000     1.000000     0.000000     0.000000     1.000000   \n",
      "max       1.000000     1.000000     1.000000     1.000000     1.000000   \n",
      "\n",
      "            Adidas         Nike          Air         Zoom       Blazer  \\\n",
      "count 99956.000000 99956.000000 99956.000000 99956.000000 99956.000000   \n",
      "mean      1.000000     0.221007     0.193795     0.043189     0.036236   \n",
      "std       0.000000     0.414927     0.395272     0.203283     0.186878   \n",
      "min       1.000000     0.000000     0.000000     0.000000     0.000000   \n",
      "25%       1.000000     0.000000     0.000000     0.000000     0.000000   \n",
      "50%       1.000000     0.000000     0.000000     0.000000     0.000000   \n",
      "75%       1.000000     0.000000     0.000000     0.000000     0.000000   \n",
      "max       1.000000     1.000000     1.000000     1.000000     1.000000   \n",
      "\n",
      "             Retro        Force          Max        Black     Vapormax  \\\n",
      "count 99956.000000 99956.000000 99956.000000 99956.000000 99956.000000   \n",
      "mean      0.057055     0.024871     0.033915     0.095692     0.000000   \n",
      "std       0.231949     0.155733     0.181011     0.294170     0.000000   \n",
      "min       0.000000     0.000000     0.000000     0.000000     0.000000   \n",
      "25%       0.000000     0.000000     0.000000     0.000000     0.000000   \n",
      "50%       0.000000     0.000000     0.000000     0.000000     0.000000   \n",
      "75%       0.000000     0.000000     0.000000     0.000000     0.000000   \n",
      "max       1.000000     1.000000     1.000000     1.000000     0.000000   \n",
      "\n",
      "         date_diff   California     Kentucky  Rhode Island     Michigan  ...  \\\n",
      "count 99956.000000 99956.000000 99956.000000  99956.000000 99956.000000  ...   \n",
      "mean    183.708722     0.193575     0.004882      0.003472     0.027632  ...   \n",
      "std     232.354142     0.395102     0.069702      0.058818     0.163917  ...   \n",
      "min     -69.000000     0.000000     0.000000      0.000000     0.000000  ...   \n",
      "25%      10.000000     0.000000     0.000000      0.000000     0.000000  ...   \n",
      "50%      56.000000     0.000000     0.000000      0.000000     0.000000  ...   \n",
      "75%     345.000000     0.000000     0.000000      0.000000     0.000000  ...   \n",
      "max    1321.000000     1.000000     1.000000      1.000000     1.000000  ...   \n",
      "\n",
      "       South Carolina        Maine     Illinois       Nevada     Maryland  \\\n",
      "count    99956.000000 99956.000000 99956.000000 99956.000000 99956.000000   \n",
      "mean         0.005703     0.001321     0.037837     0.007903     0.018708   \n",
      "std          0.075300     0.036316     0.190802     0.088550     0.135493   \n",
      "min          0.000000     0.000000     0.000000     0.000000     0.000000   \n",
      "25%          0.000000     0.000000     0.000000     0.000000     0.000000   \n",
      "50%          0.000000     0.000000     0.000000     0.000000     0.000000   \n",
      "75%          0.000000     0.000000     0.000000     0.000000     0.000000   \n",
      "max          1.000000     1.000000     1.000000     1.000000     1.000000   \n",
      "\n",
      "           Arizona    Minnesota         Iowa    Tennessee  West Virginia  \\\n",
      "count 99956.000000 99956.000000 99956.000000 99956.000000   99956.000000   \n",
      "mean      0.013986     0.007253     0.004602     0.007313       0.001661   \n",
      "std       0.117434     0.084857     0.067682     0.085205       0.040718   \n",
      "min       0.000000     0.000000     0.000000     0.000000       0.000000   \n",
      "25%       0.000000     0.000000     0.000000     0.000000       0.000000   \n",
      "50%       0.000000     0.000000     0.000000     0.000000       0.000000   \n",
      "75%       0.000000     0.000000     0.000000     0.000000       0.000000   \n",
      "max       1.000000     1.000000     1.000000     1.000000       1.000000   \n",
      "\n",
      "           Indiana     Arkansas       Alaska      Wyoming         Utah  \\\n",
      "count 99956.000000 99956.000000 99956.000000 99956.000000 99956.000000   \n",
      "mean      0.010265     0.001731     0.000610     0.000400     0.004502   \n",
      "std       0.100793     0.041567     0.024696     0.020000     0.066946   \n",
      "min       0.000000     0.000000     0.000000     0.000000     0.000000   \n",
      "25%       0.000000     0.000000     0.000000     0.000000     0.000000   \n",
      "50%       0.000000     0.000000     0.000000     0.000000     0.000000   \n",
      "75%       0.000000     0.000000     0.000000     0.000000     0.000000   \n",
      "max       1.000000     1.000000     1.000000     1.000000     1.000000   \n",
      "\n",
      "       New Hampshire      Vermont  District of Columbia       Hawaii  \\\n",
      "count   99956.000000 99956.000000          99956.000000 99956.000000   \n",
      "mean        0.002411     0.000840              0.002711     0.003832   \n",
      "std         0.049044     0.028977              0.051999     0.061782   \n",
      "min         0.000000     0.000000              0.000000     0.000000   \n",
      "25%         0.000000     0.000000              0.000000     0.000000   \n",
      "50%         0.000000     0.000000              0.000000     0.000000   \n",
      "75%         0.000000     0.000000              0.000000     0.000000   \n",
      "max         1.000000     1.000000              1.000000     1.000000   \n",
      "\n",
      "        New Mexico  South Dakota  Mississippi  North Dakota        Idaho  \\\n",
      "count 99956.000000  99956.000000 99956.000000  99956.000000 99956.000000   \n",
      "mean      0.002311      0.000550     0.001631      0.000640     0.001070   \n",
      "std       0.048018      0.023451     0.040349      0.025296     0.032701   \n",
      "min       0.000000      0.000000     0.000000      0.000000     0.000000   \n",
      "25%       0.000000      0.000000     0.000000      0.000000     0.000000   \n",
      "50%       0.000000      0.000000     0.000000      0.000000     0.000000   \n",
      "75%       0.000000      0.000000     0.000000      0.000000     0.000000   \n",
      "max       1.000000      1.000000     1.000000      1.000000     1.000000   \n",
      "\n",
      "           Montana  \n",
      "count 99956.000000  \n",
      "mean      0.000490  \n",
      "std       0.022135  \n",
      "min       0.000000  \n",
      "25%       0.000000  \n",
      "50%       0.000000  \n",
      "75%       0.000000  \n",
      "max       1.000000  \n",
      "\n",
      "[8 rows x 72 columns]\n",
      "########### SHAPE ###########\n",
      "(99956, 74)\n",
      "########### COLUMNS ###########\n",
      "Index(['Brand', 'Sneaker Name', 'Sale Price', 'Retail Price', 'Shoe Size',\n",
      "       'Price Ratio', 'Boost', 'Jordan', 'V2', 'Core', 'Low', '350', 'Adidas',\n",
      "       'Nike', 'Air', 'Zoom', 'Blazer', 'Retro', 'Force', 'Max', 'Black',\n",
      "       'Vapormax', 'date_diff', 'California', 'Kentucky', 'Rhode Island',\n",
      "       'Michigan', 'New York', 'Kansas', 'Florida', 'New Jersey', 'Texas',\n",
      "       'North Carolina', 'Oregon', 'Alabama', 'Delaware', 'Virginia',\n",
      "       'Wisconsin', 'Colorado', 'Massachusetts', 'Pennsylvania', 'Louisiana',\n",
      "       'Washington', 'Georgia', 'Ohio', 'Nebraska', 'Oklahoma', 'Connecticut',\n",
      "       'Missouri', 'South Carolina', 'Maine', 'Illinois', 'Nevada', 'Maryland',\n",
      "       'Arizona', 'Minnesota', 'Iowa', 'Tennessee', 'West Virginia', 'Indiana',\n",
      "       'Arkansas', 'Alaska', 'Wyoming', 'Utah', 'New Hampshire', 'Vermont',\n",
      "       'District of Columbia', 'Hawaii', 'New Mexico', 'South Dakota',\n",
      "       'Mississippi', 'North Dakota', 'Idaho', 'Montana'],\n",
      "      dtype='object')\n",
      "########### NDIM ###########\n",
      "2\n"
     ]
    }
   ],
   "source": [
    "DataFrame_Check(df)"
   ]
  },
  {
   "cell_type": "markdown",
   "id": "cf528eee",
   "metadata": {
    "papermill": {
     "duration": 0.031512,
     "end_time": "2022-09-02T11:37:43.525398",
     "exception": false,
     "start_time": "2022-09-02T11:37:43.493886",
     "status": "completed"
    },
    "tags": []
   },
   "source": [
    "# Encoding"
   ]
  },
  {
   "cell_type": "markdown",
   "id": "581d226a",
   "metadata": {
    "papermill": {
     "duration": 0.02255,
     "end_time": "2022-09-02T11:37:43.571835",
     "exception": false,
     "start_time": "2022-09-02T11:37:43.549285",
     "status": "completed"
    },
    "tags": []
   },
   "source": [
    "### LABEL ENCODİNG"
   ]
  },
  {
   "cell_type": "code",
   "execution_count": 24,
   "id": "656138ff",
   "metadata": {
    "execution": {
     "iopub.execute_input": "2022-09-02T11:37:43.620110Z",
     "iopub.status.busy": "2022-09-02T11:37:43.619298Z",
     "iopub.status.idle": "2022-09-02T11:37:43.624857Z",
     "shell.execute_reply": "2022-09-02T11:37:43.624045Z"
    },
    "papermill": {
     "duration": 0.032247,
     "end_time": "2022-09-02T11:37:43.627074",
     "exception": false,
     "start_time": "2022-09-02T11:37:43.594827",
     "status": "completed"
    },
    "tags": []
   },
   "outputs": [],
   "source": [
    "def label_encoding(df,col):\n",
    "    label = LabelEncoder()\n",
    "    df[col] = label.fit_transform(df[col])\n",
    "    return df"
   ]
  },
  {
   "cell_type": "code",
   "execution_count": 25,
   "id": "543dda51",
   "metadata": {
    "execution": {
     "iopub.execute_input": "2022-09-02T11:37:43.675238Z",
     "iopub.status.busy": "2022-09-02T11:37:43.674507Z",
     "iopub.status.idle": "2022-09-02T11:37:43.722094Z",
     "shell.execute_reply": "2022-09-02T11:37:43.720563Z"
    },
    "papermill": {
     "duration": 0.07513,
     "end_time": "2022-09-02T11:37:43.725067",
     "exception": false,
     "start_time": "2022-09-02T11:37:43.649937",
     "status": "completed"
    },
    "tags": []
   },
   "outputs": [],
   "source": [
    "binary_columns = [col for col in df.columns if df[col].dtypes == \"O\" and df[col].nunique() == 2]\n",
    "for col in binary_columns:\n",
    "    df = label_encoding(df,col)"
   ]
  },
  {
   "cell_type": "markdown",
   "id": "e672846e",
   "metadata": {
    "papermill": {
     "duration": 0.022618,
     "end_time": "2022-09-02T11:37:43.771017",
     "exception": false,
     "start_time": "2022-09-02T11:37:43.748399",
     "status": "completed"
    },
    "tags": []
   },
   "source": [
    "### ONE HOT ENCODİNG"
   ]
  },
  {
   "cell_type": "code",
   "execution_count": 26,
   "id": "e025f37a",
   "metadata": {
    "execution": {
     "iopub.execute_input": "2022-09-02T11:37:43.818557Z",
     "iopub.status.busy": "2022-09-02T11:37:43.818130Z",
     "iopub.status.idle": "2022-09-02T11:37:43.823451Z",
     "shell.execute_reply": "2022-09-02T11:37:43.822421Z"
    },
    "papermill": {
     "duration": 0.031539,
     "end_time": "2022-09-02T11:37:43.825592",
     "exception": false,
     "start_time": "2022-09-02T11:37:43.794053",
     "status": "completed"
    },
    "tags": []
   },
   "outputs": [],
   "source": [
    "def one_hot_encoder(dataframe, categorical_cols, drop_first=False):\n",
    "    dataframe = pd.get_dummies(dataframe, columns=categorical_cols, drop_first=drop_first)\n",
    "    return dataframe"
   ]
  },
  {
   "cell_type": "code",
   "execution_count": 27,
   "id": "febb8869",
   "metadata": {
    "execution": {
     "iopub.execute_input": "2022-09-02T11:37:43.873500Z",
     "iopub.status.busy": "2022-09-02T11:37:43.873069Z",
     "iopub.status.idle": "2022-09-02T11:37:43.943237Z",
     "shell.execute_reply": "2022-09-02T11:37:43.941914Z"
    },
    "papermill": {
     "duration": 0.097482,
     "end_time": "2022-09-02T11:37:43.945981",
     "exception": false,
     "start_time": "2022-09-02T11:37:43.848499",
     "status": "completed"
    },
    "tags": []
   },
   "outputs": [
    {
     "name": "stdout",
     "output_type": "stream",
     "text": [
      "----- Categorical Columns -----\n",
      "['Brand', 'Retail Price', 'Boost', 'Jordan', 'V2', 'Core', 'Low', '350', 'Adidas', 'Nike', 'Air', 'Zoom', 'Blazer', 'Retro', 'Force', 'Max', 'Black', 'Vapormax', 'California', 'Kentucky', 'Rhode Island', 'Michigan', 'New York', 'Kansas', 'Florida', 'New Jersey', 'Texas', 'North Carolina', 'Oregon', 'Alabama', 'Delaware', 'Virginia', 'Wisconsin', 'Colorado', 'Massachusetts', 'Pennsylvania', 'Louisiana', 'Washington', 'Georgia', 'Ohio', 'Nebraska', 'Oklahoma', 'Connecticut', 'Missouri', 'South Carolina', 'Maine', 'Illinois', 'Nevada', 'Maryland', 'Arizona', 'Minnesota', 'Iowa', 'Tennessee', 'West Virginia', 'Indiana', 'Arkansas', 'Alaska', 'Wyoming', 'Utah', 'New Hampshire', 'Vermont', 'District of Columbia', 'Hawaii', 'New Mexico', 'South Dakota', 'Mississippi', 'North Dakota', 'Idaho', 'Montana']\n",
      "----- Numerical Columns -----\n",
      "['Sale Price', 'Shoe Size', 'Price Ratio', 'date_diff']\n",
      "----- Cardinal Columns -----\n",
      "['Sneaker Name']\n"
     ]
    }
   ],
   "source": [
    "cat_col,num_col,car_col = grab_columns(df)"
   ]
  },
  {
   "cell_type": "code",
   "execution_count": 28,
   "id": "05383360",
   "metadata": {
    "execution": {
     "iopub.execute_input": "2022-09-02T11:37:43.994645Z",
     "iopub.status.busy": "2022-09-02T11:37:43.993586Z",
     "iopub.status.idle": "2022-09-02T11:37:44.260472Z",
     "shell.execute_reply": "2022-09-02T11:37:44.259299Z"
    },
    "papermill": {
     "duration": 0.293952,
     "end_time": "2022-09-02T11:37:44.263161",
     "exception": false,
     "start_time": "2022-09-02T11:37:43.969209",
     "status": "completed"
    },
    "tags": []
   },
   "outputs": [],
   "source": [
    "one_hot_columns = [col for col in cat_col if col not in binary_columns and col != \"Sale Price\"]\n",
    "df = one_hot_encoder(df,one_hot_columns,drop_first=True)"
   ]
  },
  {
   "cell_type": "markdown",
   "id": "f6d89d12",
   "metadata": {
    "papermill": {
     "duration": 0.022555,
     "end_time": "2022-09-02T11:37:44.308714",
     "exception": false,
     "start_time": "2022-09-02T11:37:44.286159",
     "status": "completed"
    },
    "tags": []
   },
   "source": [
    "# Scaling"
   ]
  },
  {
   "cell_type": "code",
   "execution_count": 29,
   "id": "d9013c31",
   "metadata": {
    "execution": {
     "iopub.execute_input": "2022-09-02T11:37:44.356627Z",
     "iopub.status.busy": "2022-09-02T11:37:44.355874Z",
     "iopub.status.idle": "2022-09-02T11:37:44.374747Z",
     "shell.execute_reply": "2022-09-02T11:37:44.373793Z"
    },
    "papermill": {
     "duration": 0.045427,
     "end_time": "2022-09-02T11:37:44.377236",
     "exception": false,
     "start_time": "2022-09-02T11:37:44.331809",
     "status": "completed"
    },
    "tags": []
   },
   "outputs": [],
   "source": [
    "scaler = MinMaxScaler()\n",
    "num_col = [col for col in num_col if col != \"Sale Price\"]\n",
    "\n",
    "df[num_col] = scaler.fit_transform(df[num_col])"
   ]
  },
  {
   "cell_type": "code",
   "execution_count": 30,
   "id": "53961e16",
   "metadata": {
    "execution": {
     "iopub.execute_input": "2022-09-02T11:37:44.425189Z",
     "iopub.status.busy": "2022-09-02T11:37:44.424784Z",
     "iopub.status.idle": "2022-09-02T11:37:44.455270Z",
     "shell.execute_reply": "2022-09-02T11:37:44.454145Z"
    },
    "papermill": {
     "duration": 0.057911,
     "end_time": "2022-09-02T11:37:44.458120",
     "exception": false,
     "start_time": "2022-09-02T11:37:44.400209",
     "status": "completed"
    },
    "tags": []
   },
   "outputs": [
    {
     "data": {
      "text/html": [
       "<div>\n",
       "<style scoped>\n",
       "    .dataframe tbody tr th:only-of-type {\n",
       "        vertical-align: middle;\n",
       "    }\n",
       "\n",
       "    .dataframe tbody tr th {\n",
       "        vertical-align: top;\n",
       "    }\n",
       "\n",
       "    .dataframe thead th {\n",
       "        text-align: right;\n",
       "    }\n",
       "</style>\n",
       "<table border=\"1\" class=\"dataframe\">\n",
       "  <thead>\n",
       "    <tr style=\"text-align: right;\">\n",
       "      <th></th>\n",
       "      <th>Brand</th>\n",
       "      <th>Sneaker Name</th>\n",
       "      <th>Sale Price</th>\n",
       "      <th>Shoe Size</th>\n",
       "      <th>Price Ratio</th>\n",
       "      <th>date_diff</th>\n",
       "      <th>Retail Price_150.0</th>\n",
       "      <th>Retail Price_160.0</th>\n",
       "      <th>Retail Price_170.0</th>\n",
       "      <th>Retail Price_190.0</th>\n",
       "      <th>Retail Price_200.0</th>\n",
       "      <th>Retail Price_220.0</th>\n",
       "      <th>Retail Price_250.0</th>\n",
       "      <th>Boost_1</th>\n",
       "      <th>Jordan_1</th>\n",
       "      <th>V2_1</th>\n",
       "      <th>Core_1</th>\n",
       "      <th>Low_1</th>\n",
       "      <th>350_1</th>\n",
       "      <th>Nike_1</th>\n",
       "      <th>Air_1</th>\n",
       "      <th>Zoom_1</th>\n",
       "      <th>Blazer_1</th>\n",
       "      <th>Retro_1</th>\n",
       "      <th>Force_1</th>\n",
       "      <th>...</th>\n",
       "      <th>South Carolina_1</th>\n",
       "      <th>Maine_1</th>\n",
       "      <th>Illinois_1</th>\n",
       "      <th>Nevada_1</th>\n",
       "      <th>Maryland_1</th>\n",
       "      <th>Arizona_1</th>\n",
       "      <th>Minnesota_1</th>\n",
       "      <th>Iowa_1</th>\n",
       "      <th>Tennessee_1</th>\n",
       "      <th>West Virginia_1</th>\n",
       "      <th>Indiana_1</th>\n",
       "      <th>Arkansas_1</th>\n",
       "      <th>Alaska_1</th>\n",
       "      <th>Wyoming_1</th>\n",
       "      <th>Utah_1</th>\n",
       "      <th>New Hampshire_1</th>\n",
       "      <th>Vermont_1</th>\n",
       "      <th>District of Columbia_1</th>\n",
       "      <th>Hawaii_1</th>\n",
       "      <th>New Mexico_1</th>\n",
       "      <th>South Dakota_1</th>\n",
       "      <th>Mississippi_1</th>\n",
       "      <th>North Dakota_1</th>\n",
       "      <th>Idaho_1</th>\n",
       "      <th>Montana_1</th>\n",
       "    </tr>\n",
       "  </thead>\n",
       "  <tbody>\n",
       "    <tr>\n",
       "      <th>0</th>\n",
       "      <td>0</td>\n",
       "      <td>Adidas-Yeezy-Boost-350-Low-V2-Beluga</td>\n",
       "      <td>1097.000000</td>\n",
       "      <td>0.555556</td>\n",
       "      <td>0.202288</td>\n",
       "      <td>0.295683</td>\n",
       "      <td>0</td>\n",
       "      <td>0</td>\n",
       "      <td>0</td>\n",
       "      <td>0</td>\n",
       "      <td>0</td>\n",
       "      <td>1</td>\n",
       "      <td>0</td>\n",
       "      <td>1</td>\n",
       "      <td>0</td>\n",
       "      <td>1</td>\n",
       "      <td>0</td>\n",
       "      <td>1</td>\n",
       "      <td>1</td>\n",
       "      <td>0</td>\n",
       "      <td>0</td>\n",
       "      <td>0</td>\n",
       "      <td>0</td>\n",
       "      <td>0</td>\n",
       "      <td>0</td>\n",
       "      <td>...</td>\n",
       "      <td>0</td>\n",
       "      <td>0</td>\n",
       "      <td>0</td>\n",
       "      <td>0</td>\n",
       "      <td>0</td>\n",
       "      <td>0</td>\n",
       "      <td>0</td>\n",
       "      <td>0</td>\n",
       "      <td>0</td>\n",
       "      <td>0</td>\n",
       "      <td>0</td>\n",
       "      <td>0</td>\n",
       "      <td>0</td>\n",
       "      <td>0</td>\n",
       "      <td>0</td>\n",
       "      <td>0</td>\n",
       "      <td>0</td>\n",
       "      <td>0</td>\n",
       "      <td>0</td>\n",
       "      <td>0</td>\n",
       "      <td>0</td>\n",
       "      <td>0</td>\n",
       "      <td>0</td>\n",
       "      <td>0</td>\n",
       "      <td>0</td>\n",
       "    </tr>\n",
       "    <tr>\n",
       "      <th>1</th>\n",
       "      <td>0</td>\n",
       "      <td>Adidas-Yeezy-Boost-350-V2-Core-Black-Copper</td>\n",
       "      <td>685.000000</td>\n",
       "      <td>0.555556</td>\n",
       "      <td>0.110803</td>\n",
       "      <td>0.252518</td>\n",
       "      <td>0</td>\n",
       "      <td>0</td>\n",
       "      <td>0</td>\n",
       "      <td>0</td>\n",
       "      <td>0</td>\n",
       "      <td>1</td>\n",
       "      <td>0</td>\n",
       "      <td>1</td>\n",
       "      <td>0</td>\n",
       "      <td>1</td>\n",
       "      <td>1</td>\n",
       "      <td>0</td>\n",
       "      <td>1</td>\n",
       "      <td>0</td>\n",
       "      <td>0</td>\n",
       "      <td>0</td>\n",
       "      <td>0</td>\n",
       "      <td>0</td>\n",
       "      <td>0</td>\n",
       "      <td>...</td>\n",
       "      <td>0</td>\n",
       "      <td>0</td>\n",
       "      <td>0</td>\n",
       "      <td>0</td>\n",
       "      <td>0</td>\n",
       "      <td>0</td>\n",
       "      <td>0</td>\n",
       "      <td>0</td>\n",
       "      <td>0</td>\n",
       "      <td>0</td>\n",
       "      <td>0</td>\n",
       "      <td>0</td>\n",
       "      <td>0</td>\n",
       "      <td>0</td>\n",
       "      <td>0</td>\n",
       "      <td>0</td>\n",
       "      <td>0</td>\n",
       "      <td>0</td>\n",
       "      <td>0</td>\n",
       "      <td>0</td>\n",
       "      <td>0</td>\n",
       "      <td>0</td>\n",
       "      <td>0</td>\n",
       "      <td>0</td>\n",
       "      <td>0</td>\n",
       "    </tr>\n",
       "    <tr>\n",
       "      <th>2</th>\n",
       "      <td>0</td>\n",
       "      <td>Adidas-Yeezy-Boost-350-V2-Core-Black-Green</td>\n",
       "      <td>690.000000</td>\n",
       "      <td>0.555556</td>\n",
       "      <td>0.111914</td>\n",
       "      <td>0.252518</td>\n",
       "      <td>0</td>\n",
       "      <td>0</td>\n",
       "      <td>0</td>\n",
       "      <td>0</td>\n",
       "      <td>0</td>\n",
       "      <td>1</td>\n",
       "      <td>0</td>\n",
       "      <td>1</td>\n",
       "      <td>0</td>\n",
       "      <td>1</td>\n",
       "      <td>1</td>\n",
       "      <td>0</td>\n",
       "      <td>1</td>\n",
       "      <td>0</td>\n",
       "      <td>0</td>\n",
       "      <td>0</td>\n",
       "      <td>0</td>\n",
       "      <td>0</td>\n",
       "      <td>0</td>\n",
       "      <td>...</td>\n",
       "      <td>0</td>\n",
       "      <td>0</td>\n",
       "      <td>0</td>\n",
       "      <td>0</td>\n",
       "      <td>0</td>\n",
       "      <td>0</td>\n",
       "      <td>0</td>\n",
       "      <td>0</td>\n",
       "      <td>0</td>\n",
       "      <td>0</td>\n",
       "      <td>0</td>\n",
       "      <td>0</td>\n",
       "      <td>0</td>\n",
       "      <td>0</td>\n",
       "      <td>0</td>\n",
       "      <td>0</td>\n",
       "      <td>0</td>\n",
       "      <td>0</td>\n",
       "      <td>0</td>\n",
       "      <td>0</td>\n",
       "      <td>0</td>\n",
       "      <td>0</td>\n",
       "      <td>0</td>\n",
       "      <td>0</td>\n",
       "      <td>0</td>\n",
       "    </tr>\n",
       "    <tr>\n",
       "      <th>3</th>\n",
       "      <td>0</td>\n",
       "      <td>Adidas-Yeezy-Boost-350-V2-Core-Black-Red</td>\n",
       "      <td>1075.000000</td>\n",
       "      <td>0.592593</td>\n",
       "      <td>0.197403</td>\n",
       "      <td>0.252518</td>\n",
       "      <td>0</td>\n",
       "      <td>0</td>\n",
       "      <td>0</td>\n",
       "      <td>0</td>\n",
       "      <td>0</td>\n",
       "      <td>1</td>\n",
       "      <td>0</td>\n",
       "      <td>1</td>\n",
       "      <td>0</td>\n",
       "      <td>1</td>\n",
       "      <td>1</td>\n",
       "      <td>0</td>\n",
       "      <td>1</td>\n",
       "      <td>0</td>\n",
       "      <td>0</td>\n",
       "      <td>0</td>\n",
       "      <td>0</td>\n",
       "      <td>0</td>\n",
       "      <td>0</td>\n",
       "      <td>...</td>\n",
       "      <td>0</td>\n",
       "      <td>0</td>\n",
       "      <td>0</td>\n",
       "      <td>0</td>\n",
       "      <td>0</td>\n",
       "      <td>0</td>\n",
       "      <td>0</td>\n",
       "      <td>0</td>\n",
       "      <td>0</td>\n",
       "      <td>0</td>\n",
       "      <td>0</td>\n",
       "      <td>0</td>\n",
       "      <td>0</td>\n",
       "      <td>0</td>\n",
       "      <td>0</td>\n",
       "      <td>0</td>\n",
       "      <td>0</td>\n",
       "      <td>0</td>\n",
       "      <td>0</td>\n",
       "      <td>0</td>\n",
       "      <td>0</td>\n",
       "      <td>0</td>\n",
       "      <td>0</td>\n",
       "      <td>0</td>\n",
       "      <td>0</td>\n",
       "    </tr>\n",
       "    <tr>\n",
       "      <th>4</th>\n",
       "      <td>0</td>\n",
       "      <td>Adidas-Yeezy-Boost-350-V2-Core-Black-Red-2017</td>\n",
       "      <td>828.000000</td>\n",
       "      <td>0.555556</td>\n",
       "      <td>0.142557</td>\n",
       "      <td>0.194964</td>\n",
       "      <td>0</td>\n",
       "      <td>0</td>\n",
       "      <td>0</td>\n",
       "      <td>0</td>\n",
       "      <td>0</td>\n",
       "      <td>1</td>\n",
       "      <td>0</td>\n",
       "      <td>1</td>\n",
       "      <td>0</td>\n",
       "      <td>1</td>\n",
       "      <td>1</td>\n",
       "      <td>0</td>\n",
       "      <td>1</td>\n",
       "      <td>0</td>\n",
       "      <td>0</td>\n",
       "      <td>0</td>\n",
       "      <td>0</td>\n",
       "      <td>0</td>\n",
       "      <td>0</td>\n",
       "      <td>...</td>\n",
       "      <td>0</td>\n",
       "      <td>0</td>\n",
       "      <td>0</td>\n",
       "      <td>0</td>\n",
       "      <td>0</td>\n",
       "      <td>0</td>\n",
       "      <td>0</td>\n",
       "      <td>0</td>\n",
       "      <td>0</td>\n",
       "      <td>0</td>\n",
       "      <td>0</td>\n",
       "      <td>0</td>\n",
       "      <td>0</td>\n",
       "      <td>0</td>\n",
       "      <td>0</td>\n",
       "      <td>0</td>\n",
       "      <td>0</td>\n",
       "      <td>0</td>\n",
       "      <td>0</td>\n",
       "      <td>0</td>\n",
       "      <td>0</td>\n",
       "      <td>0</td>\n",
       "      <td>0</td>\n",
       "      <td>0</td>\n",
       "      <td>0</td>\n",
       "    </tr>\n",
       "  </tbody>\n",
       "</table>\n",
       "<p>5 rows × 78 columns</p>\n",
       "</div>"
      ],
      "text/plain": [
       "   Brand                                   Sneaker Name  Sale Price  \\\n",
       "0      0           Adidas-Yeezy-Boost-350-Low-V2-Beluga 1097.000000   \n",
       "1      0    Adidas-Yeezy-Boost-350-V2-Core-Black-Copper  685.000000   \n",
       "2      0     Adidas-Yeezy-Boost-350-V2-Core-Black-Green  690.000000   \n",
       "3      0       Adidas-Yeezy-Boost-350-V2-Core-Black-Red 1075.000000   \n",
       "4      0  Adidas-Yeezy-Boost-350-V2-Core-Black-Red-2017  828.000000   \n",
       "\n",
       "   Shoe Size  Price Ratio  date_diff  Retail Price_150.0  Retail Price_160.0  \\\n",
       "0   0.555556     0.202288   0.295683                   0                   0   \n",
       "1   0.555556     0.110803   0.252518                   0                   0   \n",
       "2   0.555556     0.111914   0.252518                   0                   0   \n",
       "3   0.592593     0.197403   0.252518                   0                   0   \n",
       "4   0.555556     0.142557   0.194964                   0                   0   \n",
       "\n",
       "   Retail Price_170.0  Retail Price_190.0  Retail Price_200.0  \\\n",
       "0                   0                   0                   0   \n",
       "1                   0                   0                   0   \n",
       "2                   0                   0                   0   \n",
       "3                   0                   0                   0   \n",
       "4                   0                   0                   0   \n",
       "\n",
       "   Retail Price_220.0  Retail Price_250.0  Boost_1  Jordan_1  V2_1  Core_1  \\\n",
       "0                   1                   0        1         0     1       0   \n",
       "1                   1                   0        1         0     1       1   \n",
       "2                   1                   0        1         0     1       1   \n",
       "3                   1                   0        1         0     1       1   \n",
       "4                   1                   0        1         0     1       1   \n",
       "\n",
       "   Low_1  350_1  Nike_1  Air_1  Zoom_1  Blazer_1  Retro_1  Force_1  ...  \\\n",
       "0      1      1       0      0       0         0        0        0  ...   \n",
       "1      0      1       0      0       0         0        0        0  ...   \n",
       "2      0      1       0      0       0         0        0        0  ...   \n",
       "3      0      1       0      0       0         0        0        0  ...   \n",
       "4      0      1       0      0       0         0        0        0  ...   \n",
       "\n",
       "   South Carolina_1  Maine_1  Illinois_1  Nevada_1  Maryland_1  Arizona_1  \\\n",
       "0                 0        0           0         0           0          0   \n",
       "1                 0        0           0         0           0          0   \n",
       "2                 0        0           0         0           0          0   \n",
       "3                 0        0           0         0           0          0   \n",
       "4                 0        0           0         0           0          0   \n",
       "\n",
       "   Minnesota_1  Iowa_1  Tennessee_1  West Virginia_1  Indiana_1  Arkansas_1  \\\n",
       "0            0       0            0                0          0           0   \n",
       "1            0       0            0                0          0           0   \n",
       "2            0       0            0                0          0           0   \n",
       "3            0       0            0                0          0           0   \n",
       "4            0       0            0                0          0           0   \n",
       "\n",
       "   Alaska_1  Wyoming_1  Utah_1  New Hampshire_1  Vermont_1  \\\n",
       "0         0          0       0                0          0   \n",
       "1         0          0       0                0          0   \n",
       "2         0          0       0                0          0   \n",
       "3         0          0       0                0          0   \n",
       "4         0          0       0                0          0   \n",
       "\n",
       "   District of Columbia_1  Hawaii_1  New Mexico_1  South Dakota_1  \\\n",
       "0                       0         0             0               0   \n",
       "1                       0         0             0               0   \n",
       "2                       0         0             0               0   \n",
       "3                       0         0             0               0   \n",
       "4                       0         0             0               0   \n",
       "\n",
       "   Mississippi_1  North Dakota_1  Idaho_1  Montana_1  \n",
       "0              0               0        0          0  \n",
       "1              0               0        0          0  \n",
       "2              0               0        0          0  \n",
       "3              0               0        0          0  \n",
       "4              0               0        0          0  \n",
       "\n",
       "[5 rows x 78 columns]"
      ]
     },
     "execution_count": 30,
     "metadata": {},
     "output_type": "execute_result"
    }
   ],
   "source": [
    "df.head()"
   ]
  },
  {
   "cell_type": "markdown",
   "id": "6cc67722",
   "metadata": {
    "papermill": {
     "duration": 0.023335,
     "end_time": "2022-09-02T11:37:44.505845",
     "exception": false,
     "start_time": "2022-09-02T11:37:44.482510",
     "status": "completed"
    },
    "tags": []
   },
   "source": [
    "# Model"
   ]
  },
  {
   "cell_type": "code",
   "execution_count": 31,
   "id": "50185905",
   "metadata": {
    "execution": {
     "iopub.execute_input": "2022-09-02T11:37:44.554903Z",
     "iopub.status.busy": "2022-09-02T11:37:44.554513Z",
     "iopub.status.idle": "2022-09-02T11:37:44.567626Z",
     "shell.execute_reply": "2022-09-02T11:37:44.566618Z"
    },
    "papermill": {
     "duration": 0.040694,
     "end_time": "2022-09-02T11:37:44.570164",
     "exception": false,
     "start_time": "2022-09-02T11:37:44.529470",
     "status": "completed"
    },
    "tags": []
   },
   "outputs": [],
   "source": [
    "X = df.drop([\"Sale Price\",\"Sneaker Name\"],axis=1)\n",
    "y = df[\"Sale Price\"]"
   ]
  },
  {
   "cell_type": "code",
   "execution_count": 32,
   "id": "88e3559c",
   "metadata": {
    "execution": {
     "iopub.execute_input": "2022-09-02T11:37:44.619772Z",
     "iopub.status.busy": "2022-09-02T11:37:44.619337Z",
     "iopub.status.idle": "2022-09-02T11:37:44.663922Z",
     "shell.execute_reply": "2022-09-02T11:37:44.662982Z"
    },
    "papermill": {
     "duration": 0.071951,
     "end_time": "2022-09-02T11:37:44.666064",
     "exception": false,
     "start_time": "2022-09-02T11:37:44.594113",
     "status": "completed"
    },
    "tags": []
   },
   "outputs": [
    {
     "data": {
      "text/html": [
       "<div>\n",
       "<style scoped>\n",
       "    .dataframe tbody tr th:only-of-type {\n",
       "        vertical-align: middle;\n",
       "    }\n",
       "\n",
       "    .dataframe tbody tr th {\n",
       "        vertical-align: top;\n",
       "    }\n",
       "\n",
       "    .dataframe thead th {\n",
       "        text-align: right;\n",
       "    }\n",
       "</style>\n",
       "<table border=\"1\" class=\"dataframe\">\n",
       "  <thead>\n",
       "    <tr style=\"text-align: right;\">\n",
       "      <th></th>\n",
       "      <th>Brand</th>\n",
       "      <th>Shoe Size</th>\n",
       "      <th>Price Ratio</th>\n",
       "      <th>date_diff</th>\n",
       "      <th>Retail Price_150.0</th>\n",
       "      <th>Retail Price_160.0</th>\n",
       "      <th>Retail Price_170.0</th>\n",
       "      <th>Retail Price_190.0</th>\n",
       "      <th>Retail Price_200.0</th>\n",
       "      <th>Retail Price_220.0</th>\n",
       "      <th>Retail Price_250.0</th>\n",
       "      <th>Boost_1</th>\n",
       "      <th>Jordan_1</th>\n",
       "      <th>V2_1</th>\n",
       "      <th>Core_1</th>\n",
       "      <th>Low_1</th>\n",
       "      <th>350_1</th>\n",
       "      <th>Nike_1</th>\n",
       "      <th>Air_1</th>\n",
       "      <th>Zoom_1</th>\n",
       "      <th>Blazer_1</th>\n",
       "      <th>Retro_1</th>\n",
       "      <th>Force_1</th>\n",
       "      <th>Max_1</th>\n",
       "      <th>Black_1</th>\n",
       "      <th>...</th>\n",
       "      <th>South Carolina_1</th>\n",
       "      <th>Maine_1</th>\n",
       "      <th>Illinois_1</th>\n",
       "      <th>Nevada_1</th>\n",
       "      <th>Maryland_1</th>\n",
       "      <th>Arizona_1</th>\n",
       "      <th>Minnesota_1</th>\n",
       "      <th>Iowa_1</th>\n",
       "      <th>Tennessee_1</th>\n",
       "      <th>West Virginia_1</th>\n",
       "      <th>Indiana_1</th>\n",
       "      <th>Arkansas_1</th>\n",
       "      <th>Alaska_1</th>\n",
       "      <th>Wyoming_1</th>\n",
       "      <th>Utah_1</th>\n",
       "      <th>New Hampshire_1</th>\n",
       "      <th>Vermont_1</th>\n",
       "      <th>District of Columbia_1</th>\n",
       "      <th>Hawaii_1</th>\n",
       "      <th>New Mexico_1</th>\n",
       "      <th>South Dakota_1</th>\n",
       "      <th>Mississippi_1</th>\n",
       "      <th>North Dakota_1</th>\n",
       "      <th>Idaho_1</th>\n",
       "      <th>Montana_1</th>\n",
       "    </tr>\n",
       "  </thead>\n",
       "  <tbody>\n",
       "    <tr>\n",
       "      <th>0</th>\n",
       "      <td>0</td>\n",
       "      <td>0.555556</td>\n",
       "      <td>0.202288</td>\n",
       "      <td>0.295683</td>\n",
       "      <td>0</td>\n",
       "      <td>0</td>\n",
       "      <td>0</td>\n",
       "      <td>0</td>\n",
       "      <td>0</td>\n",
       "      <td>1</td>\n",
       "      <td>0</td>\n",
       "      <td>1</td>\n",
       "      <td>0</td>\n",
       "      <td>1</td>\n",
       "      <td>0</td>\n",
       "      <td>1</td>\n",
       "      <td>1</td>\n",
       "      <td>0</td>\n",
       "      <td>0</td>\n",
       "      <td>0</td>\n",
       "      <td>0</td>\n",
       "      <td>0</td>\n",
       "      <td>0</td>\n",
       "      <td>0</td>\n",
       "      <td>0</td>\n",
       "      <td>...</td>\n",
       "      <td>0</td>\n",
       "      <td>0</td>\n",
       "      <td>0</td>\n",
       "      <td>0</td>\n",
       "      <td>0</td>\n",
       "      <td>0</td>\n",
       "      <td>0</td>\n",
       "      <td>0</td>\n",
       "      <td>0</td>\n",
       "      <td>0</td>\n",
       "      <td>0</td>\n",
       "      <td>0</td>\n",
       "      <td>0</td>\n",
       "      <td>0</td>\n",
       "      <td>0</td>\n",
       "      <td>0</td>\n",
       "      <td>0</td>\n",
       "      <td>0</td>\n",
       "      <td>0</td>\n",
       "      <td>0</td>\n",
       "      <td>0</td>\n",
       "      <td>0</td>\n",
       "      <td>0</td>\n",
       "      <td>0</td>\n",
       "      <td>0</td>\n",
       "    </tr>\n",
       "    <tr>\n",
       "      <th>1</th>\n",
       "      <td>0</td>\n",
       "      <td>0.555556</td>\n",
       "      <td>0.110803</td>\n",
       "      <td>0.252518</td>\n",
       "      <td>0</td>\n",
       "      <td>0</td>\n",
       "      <td>0</td>\n",
       "      <td>0</td>\n",
       "      <td>0</td>\n",
       "      <td>1</td>\n",
       "      <td>0</td>\n",
       "      <td>1</td>\n",
       "      <td>0</td>\n",
       "      <td>1</td>\n",
       "      <td>1</td>\n",
       "      <td>0</td>\n",
       "      <td>1</td>\n",
       "      <td>0</td>\n",
       "      <td>0</td>\n",
       "      <td>0</td>\n",
       "      <td>0</td>\n",
       "      <td>0</td>\n",
       "      <td>0</td>\n",
       "      <td>0</td>\n",
       "      <td>1</td>\n",
       "      <td>...</td>\n",
       "      <td>0</td>\n",
       "      <td>0</td>\n",
       "      <td>0</td>\n",
       "      <td>0</td>\n",
       "      <td>0</td>\n",
       "      <td>0</td>\n",
       "      <td>0</td>\n",
       "      <td>0</td>\n",
       "      <td>0</td>\n",
       "      <td>0</td>\n",
       "      <td>0</td>\n",
       "      <td>0</td>\n",
       "      <td>0</td>\n",
       "      <td>0</td>\n",
       "      <td>0</td>\n",
       "      <td>0</td>\n",
       "      <td>0</td>\n",
       "      <td>0</td>\n",
       "      <td>0</td>\n",
       "      <td>0</td>\n",
       "      <td>0</td>\n",
       "      <td>0</td>\n",
       "      <td>0</td>\n",
       "      <td>0</td>\n",
       "      <td>0</td>\n",
       "    </tr>\n",
       "    <tr>\n",
       "      <th>2</th>\n",
       "      <td>0</td>\n",
       "      <td>0.555556</td>\n",
       "      <td>0.111914</td>\n",
       "      <td>0.252518</td>\n",
       "      <td>0</td>\n",
       "      <td>0</td>\n",
       "      <td>0</td>\n",
       "      <td>0</td>\n",
       "      <td>0</td>\n",
       "      <td>1</td>\n",
       "      <td>0</td>\n",
       "      <td>1</td>\n",
       "      <td>0</td>\n",
       "      <td>1</td>\n",
       "      <td>1</td>\n",
       "      <td>0</td>\n",
       "      <td>1</td>\n",
       "      <td>0</td>\n",
       "      <td>0</td>\n",
       "      <td>0</td>\n",
       "      <td>0</td>\n",
       "      <td>0</td>\n",
       "      <td>0</td>\n",
       "      <td>0</td>\n",
       "      <td>1</td>\n",
       "      <td>...</td>\n",
       "      <td>0</td>\n",
       "      <td>0</td>\n",
       "      <td>0</td>\n",
       "      <td>0</td>\n",
       "      <td>0</td>\n",
       "      <td>0</td>\n",
       "      <td>0</td>\n",
       "      <td>0</td>\n",
       "      <td>0</td>\n",
       "      <td>0</td>\n",
       "      <td>0</td>\n",
       "      <td>0</td>\n",
       "      <td>0</td>\n",
       "      <td>0</td>\n",
       "      <td>0</td>\n",
       "      <td>0</td>\n",
       "      <td>0</td>\n",
       "      <td>0</td>\n",
       "      <td>0</td>\n",
       "      <td>0</td>\n",
       "      <td>0</td>\n",
       "      <td>0</td>\n",
       "      <td>0</td>\n",
       "      <td>0</td>\n",
       "      <td>0</td>\n",
       "    </tr>\n",
       "    <tr>\n",
       "      <th>3</th>\n",
       "      <td>0</td>\n",
       "      <td>0.592593</td>\n",
       "      <td>0.197403</td>\n",
       "      <td>0.252518</td>\n",
       "      <td>0</td>\n",
       "      <td>0</td>\n",
       "      <td>0</td>\n",
       "      <td>0</td>\n",
       "      <td>0</td>\n",
       "      <td>1</td>\n",
       "      <td>0</td>\n",
       "      <td>1</td>\n",
       "      <td>0</td>\n",
       "      <td>1</td>\n",
       "      <td>1</td>\n",
       "      <td>0</td>\n",
       "      <td>1</td>\n",
       "      <td>0</td>\n",
       "      <td>0</td>\n",
       "      <td>0</td>\n",
       "      <td>0</td>\n",
       "      <td>0</td>\n",
       "      <td>0</td>\n",
       "      <td>0</td>\n",
       "      <td>1</td>\n",
       "      <td>...</td>\n",
       "      <td>0</td>\n",
       "      <td>0</td>\n",
       "      <td>0</td>\n",
       "      <td>0</td>\n",
       "      <td>0</td>\n",
       "      <td>0</td>\n",
       "      <td>0</td>\n",
       "      <td>0</td>\n",
       "      <td>0</td>\n",
       "      <td>0</td>\n",
       "      <td>0</td>\n",
       "      <td>0</td>\n",
       "      <td>0</td>\n",
       "      <td>0</td>\n",
       "      <td>0</td>\n",
       "      <td>0</td>\n",
       "      <td>0</td>\n",
       "      <td>0</td>\n",
       "      <td>0</td>\n",
       "      <td>0</td>\n",
       "      <td>0</td>\n",
       "      <td>0</td>\n",
       "      <td>0</td>\n",
       "      <td>0</td>\n",
       "      <td>0</td>\n",
       "    </tr>\n",
       "    <tr>\n",
       "      <th>4</th>\n",
       "      <td>0</td>\n",
       "      <td>0.555556</td>\n",
       "      <td>0.142557</td>\n",
       "      <td>0.194964</td>\n",
       "      <td>0</td>\n",
       "      <td>0</td>\n",
       "      <td>0</td>\n",
       "      <td>0</td>\n",
       "      <td>0</td>\n",
       "      <td>1</td>\n",
       "      <td>0</td>\n",
       "      <td>1</td>\n",
       "      <td>0</td>\n",
       "      <td>1</td>\n",
       "      <td>1</td>\n",
       "      <td>0</td>\n",
       "      <td>1</td>\n",
       "      <td>0</td>\n",
       "      <td>0</td>\n",
       "      <td>0</td>\n",
       "      <td>0</td>\n",
       "      <td>0</td>\n",
       "      <td>0</td>\n",
       "      <td>0</td>\n",
       "      <td>1</td>\n",
       "      <td>...</td>\n",
       "      <td>0</td>\n",
       "      <td>0</td>\n",
       "      <td>0</td>\n",
       "      <td>0</td>\n",
       "      <td>0</td>\n",
       "      <td>0</td>\n",
       "      <td>0</td>\n",
       "      <td>0</td>\n",
       "      <td>0</td>\n",
       "      <td>0</td>\n",
       "      <td>0</td>\n",
       "      <td>0</td>\n",
       "      <td>0</td>\n",
       "      <td>0</td>\n",
       "      <td>0</td>\n",
       "      <td>0</td>\n",
       "      <td>0</td>\n",
       "      <td>0</td>\n",
       "      <td>0</td>\n",
       "      <td>0</td>\n",
       "      <td>0</td>\n",
       "      <td>0</td>\n",
       "      <td>0</td>\n",
       "      <td>0</td>\n",
       "      <td>0</td>\n",
       "    </tr>\n",
       "    <tr>\n",
       "      <th>...</th>\n",
       "      <td>...</td>\n",
       "      <td>...</td>\n",
       "      <td>...</td>\n",
       "      <td>...</td>\n",
       "      <td>...</td>\n",
       "      <td>...</td>\n",
       "      <td>...</td>\n",
       "      <td>...</td>\n",
       "      <td>...</td>\n",
       "      <td>...</td>\n",
       "      <td>...</td>\n",
       "      <td>...</td>\n",
       "      <td>...</td>\n",
       "      <td>...</td>\n",
       "      <td>...</td>\n",
       "      <td>...</td>\n",
       "      <td>...</td>\n",
       "      <td>...</td>\n",
       "      <td>...</td>\n",
       "      <td>...</td>\n",
       "      <td>...</td>\n",
       "      <td>...</td>\n",
       "      <td>...</td>\n",
       "      <td>...</td>\n",
       "      <td>...</td>\n",
       "      <td>...</td>\n",
       "      <td>...</td>\n",
       "      <td>...</td>\n",
       "      <td>...</td>\n",
       "      <td>...</td>\n",
       "      <td>...</td>\n",
       "      <td>...</td>\n",
       "      <td>...</td>\n",
       "      <td>...</td>\n",
       "      <td>...</td>\n",
       "      <td>...</td>\n",
       "      <td>...</td>\n",
       "      <td>...</td>\n",
       "      <td>...</td>\n",
       "      <td>...</td>\n",
       "      <td>...</td>\n",
       "      <td>...</td>\n",
       "      <td>...</td>\n",
       "      <td>...</td>\n",
       "      <td>...</td>\n",
       "      <td>...</td>\n",
       "      <td>...</td>\n",
       "      <td>...</td>\n",
       "      <td>...</td>\n",
       "      <td>...</td>\n",
       "      <td>...</td>\n",
       "    </tr>\n",
       "    <tr>\n",
       "      <th>99951</th>\n",
       "      <td>0</td>\n",
       "      <td>0.333333</td>\n",
       "      <td>0.084157</td>\n",
       "      <td>0.084892</td>\n",
       "      <td>0</td>\n",
       "      <td>0</td>\n",
       "      <td>0</td>\n",
       "      <td>0</td>\n",
       "      <td>0</td>\n",
       "      <td>1</td>\n",
       "      <td>0</td>\n",
       "      <td>1</td>\n",
       "      <td>0</td>\n",
       "      <td>1</td>\n",
       "      <td>0</td>\n",
       "      <td>0</td>\n",
       "      <td>1</td>\n",
       "      <td>0</td>\n",
       "      <td>0</td>\n",
       "      <td>0</td>\n",
       "      <td>0</td>\n",
       "      <td>0</td>\n",
       "      <td>0</td>\n",
       "      <td>0</td>\n",
       "      <td>0</td>\n",
       "      <td>...</td>\n",
       "      <td>0</td>\n",
       "      <td>0</td>\n",
       "      <td>0</td>\n",
       "      <td>0</td>\n",
       "      <td>0</td>\n",
       "      <td>0</td>\n",
       "      <td>0</td>\n",
       "      <td>0</td>\n",
       "      <td>0</td>\n",
       "      <td>0</td>\n",
       "      <td>0</td>\n",
       "      <td>0</td>\n",
       "      <td>0</td>\n",
       "      <td>0</td>\n",
       "      <td>0</td>\n",
       "      <td>0</td>\n",
       "      <td>0</td>\n",
       "      <td>0</td>\n",
       "      <td>0</td>\n",
       "      <td>0</td>\n",
       "      <td>0</td>\n",
       "      <td>0</td>\n",
       "      <td>0</td>\n",
       "      <td>0</td>\n",
       "      <td>0</td>\n",
       "    </tr>\n",
       "    <tr>\n",
       "      <th>99952</th>\n",
       "      <td>0</td>\n",
       "      <td>0.370370</td>\n",
       "      <td>0.091485</td>\n",
       "      <td>0.084892</td>\n",
       "      <td>0</td>\n",
       "      <td>0</td>\n",
       "      <td>0</td>\n",
       "      <td>0</td>\n",
       "      <td>0</td>\n",
       "      <td>1</td>\n",
       "      <td>0</td>\n",
       "      <td>1</td>\n",
       "      <td>0</td>\n",
       "      <td>1</td>\n",
       "      <td>0</td>\n",
       "      <td>0</td>\n",
       "      <td>1</td>\n",
       "      <td>0</td>\n",
       "      <td>0</td>\n",
       "      <td>0</td>\n",
       "      <td>0</td>\n",
       "      <td>0</td>\n",
       "      <td>0</td>\n",
       "      <td>0</td>\n",
       "      <td>0</td>\n",
       "      <td>...</td>\n",
       "      <td>0</td>\n",
       "      <td>0</td>\n",
       "      <td>0</td>\n",
       "      <td>0</td>\n",
       "      <td>0</td>\n",
       "      <td>0</td>\n",
       "      <td>0</td>\n",
       "      <td>0</td>\n",
       "      <td>0</td>\n",
       "      <td>0</td>\n",
       "      <td>0</td>\n",
       "      <td>0</td>\n",
       "      <td>0</td>\n",
       "      <td>0</td>\n",
       "      <td>0</td>\n",
       "      <td>0</td>\n",
       "      <td>0</td>\n",
       "      <td>0</td>\n",
       "      <td>0</td>\n",
       "      <td>0</td>\n",
       "      <td>0</td>\n",
       "      <td>0</td>\n",
       "      <td>0</td>\n",
       "      <td>0</td>\n",
       "      <td>0</td>\n",
       "    </tr>\n",
       "    <tr>\n",
       "      <th>99953</th>\n",
       "      <td>0</td>\n",
       "      <td>0.148148</td>\n",
       "      <td>0.093039</td>\n",
       "      <td>0.084892</td>\n",
       "      <td>0</td>\n",
       "      <td>0</td>\n",
       "      <td>0</td>\n",
       "      <td>0</td>\n",
       "      <td>0</td>\n",
       "      <td>1</td>\n",
       "      <td>0</td>\n",
       "      <td>1</td>\n",
       "      <td>0</td>\n",
       "      <td>1</td>\n",
       "      <td>0</td>\n",
       "      <td>0</td>\n",
       "      <td>1</td>\n",
       "      <td>0</td>\n",
       "      <td>0</td>\n",
       "      <td>0</td>\n",
       "      <td>0</td>\n",
       "      <td>0</td>\n",
       "      <td>0</td>\n",
       "      <td>0</td>\n",
       "      <td>0</td>\n",
       "      <td>...</td>\n",
       "      <td>0</td>\n",
       "      <td>0</td>\n",
       "      <td>0</td>\n",
       "      <td>0</td>\n",
       "      <td>0</td>\n",
       "      <td>0</td>\n",
       "      <td>0</td>\n",
       "      <td>0</td>\n",
       "      <td>0</td>\n",
       "      <td>0</td>\n",
       "      <td>0</td>\n",
       "      <td>0</td>\n",
       "      <td>0</td>\n",
       "      <td>0</td>\n",
       "      <td>0</td>\n",
       "      <td>0</td>\n",
       "      <td>0</td>\n",
       "      <td>0</td>\n",
       "      <td>0</td>\n",
       "      <td>0</td>\n",
       "      <td>0</td>\n",
       "      <td>0</td>\n",
       "      <td>0</td>\n",
       "      <td>0</td>\n",
       "      <td>0</td>\n",
       "    </tr>\n",
       "    <tr>\n",
       "      <th>99954</th>\n",
       "      <td>0</td>\n",
       "      <td>0.555556</td>\n",
       "      <td>0.103032</td>\n",
       "      <td>0.084892</td>\n",
       "      <td>0</td>\n",
       "      <td>0</td>\n",
       "      <td>0</td>\n",
       "      <td>0</td>\n",
       "      <td>0</td>\n",
       "      <td>1</td>\n",
       "      <td>0</td>\n",
       "      <td>1</td>\n",
       "      <td>0</td>\n",
       "      <td>1</td>\n",
       "      <td>0</td>\n",
       "      <td>0</td>\n",
       "      <td>1</td>\n",
       "      <td>0</td>\n",
       "      <td>0</td>\n",
       "      <td>0</td>\n",
       "      <td>0</td>\n",
       "      <td>0</td>\n",
       "      <td>0</td>\n",
       "      <td>0</td>\n",
       "      <td>0</td>\n",
       "      <td>...</td>\n",
       "      <td>0</td>\n",
       "      <td>0</td>\n",
       "      <td>0</td>\n",
       "      <td>0</td>\n",
       "      <td>0</td>\n",
       "      <td>0</td>\n",
       "      <td>0</td>\n",
       "      <td>0</td>\n",
       "      <td>0</td>\n",
       "      <td>0</td>\n",
       "      <td>0</td>\n",
       "      <td>0</td>\n",
       "      <td>0</td>\n",
       "      <td>0</td>\n",
       "      <td>0</td>\n",
       "      <td>0</td>\n",
       "      <td>0</td>\n",
       "      <td>0</td>\n",
       "      <td>0</td>\n",
       "      <td>0</td>\n",
       "      <td>0</td>\n",
       "      <td>0</td>\n",
       "      <td>0</td>\n",
       "      <td>0</td>\n",
       "      <td>0</td>\n",
       "    </tr>\n",
       "    <tr>\n",
       "      <th>99955</th>\n",
       "      <td>0</td>\n",
       "      <td>0.592593</td>\n",
       "      <td>0.100811</td>\n",
       "      <td>0.084892</td>\n",
       "      <td>0</td>\n",
       "      <td>0</td>\n",
       "      <td>0</td>\n",
       "      <td>0</td>\n",
       "      <td>0</td>\n",
       "      <td>1</td>\n",
       "      <td>0</td>\n",
       "      <td>1</td>\n",
       "      <td>0</td>\n",
       "      <td>1</td>\n",
       "      <td>0</td>\n",
       "      <td>0</td>\n",
       "      <td>1</td>\n",
       "      <td>0</td>\n",
       "      <td>0</td>\n",
       "      <td>0</td>\n",
       "      <td>0</td>\n",
       "      <td>0</td>\n",
       "      <td>0</td>\n",
       "      <td>0</td>\n",
       "      <td>0</td>\n",
       "      <td>...</td>\n",
       "      <td>0</td>\n",
       "      <td>0</td>\n",
       "      <td>0</td>\n",
       "      <td>0</td>\n",
       "      <td>0</td>\n",
       "      <td>0</td>\n",
       "      <td>0</td>\n",
       "      <td>0</td>\n",
       "      <td>0</td>\n",
       "      <td>0</td>\n",
       "      <td>0</td>\n",
       "      <td>0</td>\n",
       "      <td>0</td>\n",
       "      <td>0</td>\n",
       "      <td>0</td>\n",
       "      <td>0</td>\n",
       "      <td>0</td>\n",
       "      <td>0</td>\n",
       "      <td>0</td>\n",
       "      <td>0</td>\n",
       "      <td>0</td>\n",
       "      <td>0</td>\n",
       "      <td>0</td>\n",
       "      <td>0</td>\n",
       "      <td>0</td>\n",
       "    </tr>\n",
       "  </tbody>\n",
       "</table>\n",
       "<p>99956 rows × 76 columns</p>\n",
       "</div>"
      ],
      "text/plain": [
       "       Brand  Shoe Size  Price Ratio  date_diff  Retail Price_150.0  \\\n",
       "0          0   0.555556     0.202288   0.295683                   0   \n",
       "1          0   0.555556     0.110803   0.252518                   0   \n",
       "2          0   0.555556     0.111914   0.252518                   0   \n",
       "3          0   0.592593     0.197403   0.252518                   0   \n",
       "4          0   0.555556     0.142557   0.194964                   0   \n",
       "...      ...        ...          ...        ...                 ...   \n",
       "99951      0   0.333333     0.084157   0.084892                   0   \n",
       "99952      0   0.370370     0.091485   0.084892                   0   \n",
       "99953      0   0.148148     0.093039   0.084892                   0   \n",
       "99954      0   0.555556     0.103032   0.084892                   0   \n",
       "99955      0   0.592593     0.100811   0.084892                   0   \n",
       "\n",
       "       Retail Price_160.0  Retail Price_170.0  Retail Price_190.0  \\\n",
       "0                       0                   0                   0   \n",
       "1                       0                   0                   0   \n",
       "2                       0                   0                   0   \n",
       "3                       0                   0                   0   \n",
       "4                       0                   0                   0   \n",
       "...                   ...                 ...                 ...   \n",
       "99951                   0                   0                   0   \n",
       "99952                   0                   0                   0   \n",
       "99953                   0                   0                   0   \n",
       "99954                   0                   0                   0   \n",
       "99955                   0                   0                   0   \n",
       "\n",
       "       Retail Price_200.0  Retail Price_220.0  Retail Price_250.0  Boost_1  \\\n",
       "0                       0                   1                   0        1   \n",
       "1                       0                   1                   0        1   \n",
       "2                       0                   1                   0        1   \n",
       "3                       0                   1                   0        1   \n",
       "4                       0                   1                   0        1   \n",
       "...                   ...                 ...                 ...      ...   \n",
       "99951                   0                   1                   0        1   \n",
       "99952                   0                   1                   0        1   \n",
       "99953                   0                   1                   0        1   \n",
       "99954                   0                   1                   0        1   \n",
       "99955                   0                   1                   0        1   \n",
       "\n",
       "       Jordan_1  V2_1  Core_1  Low_1  350_1  Nike_1  Air_1  Zoom_1  Blazer_1  \\\n",
       "0             0     1       0      1      1       0      0       0         0   \n",
       "1             0     1       1      0      1       0      0       0         0   \n",
       "2             0     1       1      0      1       0      0       0         0   \n",
       "3             0     1       1      0      1       0      0       0         0   \n",
       "4             0     1       1      0      1       0      0       0         0   \n",
       "...         ...   ...     ...    ...    ...     ...    ...     ...       ...   \n",
       "99951         0     1       0      0      1       0      0       0         0   \n",
       "99952         0     1       0      0      1       0      0       0         0   \n",
       "99953         0     1       0      0      1       0      0       0         0   \n",
       "99954         0     1       0      0      1       0      0       0         0   \n",
       "99955         0     1       0      0      1       0      0       0         0   \n",
       "\n",
       "       Retro_1  Force_1  Max_1  Black_1  ...  South Carolina_1  Maine_1  \\\n",
       "0            0        0      0        0  ...                 0        0   \n",
       "1            0        0      0        1  ...                 0        0   \n",
       "2            0        0      0        1  ...                 0        0   \n",
       "3            0        0      0        1  ...                 0        0   \n",
       "4            0        0      0        1  ...                 0        0   \n",
       "...        ...      ...    ...      ...  ...               ...      ...   \n",
       "99951        0        0      0        0  ...                 0        0   \n",
       "99952        0        0      0        0  ...                 0        0   \n",
       "99953        0        0      0        0  ...                 0        0   \n",
       "99954        0        0      0        0  ...                 0        0   \n",
       "99955        0        0      0        0  ...                 0        0   \n",
       "\n",
       "       Illinois_1  Nevada_1  Maryland_1  Arizona_1  Minnesota_1  Iowa_1  \\\n",
       "0               0         0           0          0            0       0   \n",
       "1               0         0           0          0            0       0   \n",
       "2               0         0           0          0            0       0   \n",
       "3               0         0           0          0            0       0   \n",
       "4               0         0           0          0            0       0   \n",
       "...           ...       ...         ...        ...          ...     ...   \n",
       "99951           0         0           0          0            0       0   \n",
       "99952           0         0           0          0            0       0   \n",
       "99953           0         0           0          0            0       0   \n",
       "99954           0         0           0          0            0       0   \n",
       "99955           0         0           0          0            0       0   \n",
       "\n",
       "       Tennessee_1  West Virginia_1  Indiana_1  Arkansas_1  Alaska_1  \\\n",
       "0                0                0          0           0         0   \n",
       "1                0                0          0           0         0   \n",
       "2                0                0          0           0         0   \n",
       "3                0                0          0           0         0   \n",
       "4                0                0          0           0         0   \n",
       "...            ...              ...        ...         ...       ...   \n",
       "99951            0                0          0           0         0   \n",
       "99952            0                0          0           0         0   \n",
       "99953            0                0          0           0         0   \n",
       "99954            0                0          0           0         0   \n",
       "99955            0                0          0           0         0   \n",
       "\n",
       "       Wyoming_1  Utah_1  New Hampshire_1  Vermont_1  District of Columbia_1  \\\n",
       "0              0       0                0          0                       0   \n",
       "1              0       0                0          0                       0   \n",
       "2              0       0                0          0                       0   \n",
       "3              0       0                0          0                       0   \n",
       "4              0       0                0          0                       0   \n",
       "...          ...     ...              ...        ...                     ...   \n",
       "99951          0       0                0          0                       0   \n",
       "99952          0       0                0          0                       0   \n",
       "99953          0       0                0          0                       0   \n",
       "99954          0       0                0          0                       0   \n",
       "99955          0       0                0          0                       0   \n",
       "\n",
       "       Hawaii_1  New Mexico_1  South Dakota_1  Mississippi_1  North Dakota_1  \\\n",
       "0             0             0               0              0               0   \n",
       "1             0             0               0              0               0   \n",
       "2             0             0               0              0               0   \n",
       "3             0             0               0              0               0   \n",
       "4             0             0               0              0               0   \n",
       "...         ...           ...             ...            ...             ...   \n",
       "99951         0             0               0              0               0   \n",
       "99952         0             0               0              0               0   \n",
       "99953         0             0               0              0               0   \n",
       "99954         0             0               0              0               0   \n",
       "99955         0             0               0              0               0   \n",
       "\n",
       "       Idaho_1  Montana_1  \n",
       "0            0          0  \n",
       "1            0          0  \n",
       "2            0          0  \n",
       "3            0          0  \n",
       "4            0          0  \n",
       "...        ...        ...  \n",
       "99951        0          0  \n",
       "99952        0          0  \n",
       "99953        0          0  \n",
       "99954        0          0  \n",
       "99955        0          0  \n",
       "\n",
       "[99956 rows x 76 columns]"
      ]
     },
     "execution_count": 32,
     "metadata": {},
     "output_type": "execute_result"
    }
   ],
   "source": [
    "X"
   ]
  },
  {
   "cell_type": "code",
   "execution_count": 33,
   "id": "6eb5dc5d",
   "metadata": {
    "execution": {
     "iopub.execute_input": "2022-09-02T11:37:44.717625Z",
     "iopub.status.busy": "2022-09-02T11:37:44.716661Z",
     "iopub.status.idle": "2022-09-02T11:37:44.723747Z",
     "shell.execute_reply": "2022-09-02T11:37:44.723026Z"
    },
    "papermill": {
     "duration": 0.035088,
     "end_time": "2022-09-02T11:37:44.725753",
     "exception": false,
     "start_time": "2022-09-02T11:37:44.690665",
     "status": "completed"
    },
    "tags": []
   },
   "outputs": [
    {
     "data": {
      "text/plain": [
       "0       1097.000000\n",
       "1        685.000000\n",
       "2        690.000000\n",
       "3       1075.000000\n",
       "4        828.000000\n",
       "            ...    \n",
       "99951    565.000000\n",
       "99952    598.000000\n",
       "99953    605.000000\n",
       "99954    650.000000\n",
       "99955    640.000000\n",
       "Name: Sale Price, Length: 99956, dtype: float64"
      ]
     },
     "execution_count": 33,
     "metadata": {},
     "output_type": "execute_result"
    }
   ],
   "source": [
    "y"
   ]
  },
  {
   "cell_type": "code",
   "execution_count": 34,
   "id": "8b587164",
   "metadata": {
    "execution": {
     "iopub.execute_input": "2022-09-02T11:37:44.776826Z",
     "iopub.status.busy": "2022-09-02T11:37:44.775845Z",
     "iopub.status.idle": "2022-09-02T11:37:44.850886Z",
     "shell.execute_reply": "2022-09-02T11:37:44.849989Z"
    },
    "papermill": {
     "duration": 0.103274,
     "end_time": "2022-09-02T11:37:44.853554",
     "exception": false,
     "start_time": "2022-09-02T11:37:44.750280",
     "status": "completed"
    },
    "tags": []
   },
   "outputs": [],
   "source": [
    "from sklearn.model_selection import train_test_split\n",
    "X_train, X_test, y_train, y_test = train_test_split(X,y,random_state=34,test_size=0.3)"
   ]
  },
  {
   "cell_type": "markdown",
   "id": "3ce63905",
   "metadata": {
    "papermill": {
     "duration": 0.024935,
     "end_time": "2022-09-02T11:37:44.903103",
     "exception": false,
     "start_time": "2022-09-02T11:37:44.878168",
     "status": "completed"
    },
    "tags": []
   },
   "source": [
    "### Linear Regression"
   ]
  },
  {
   "cell_type": "code",
   "execution_count": 35,
   "id": "3115c94b",
   "metadata": {
    "execution": {
     "iopub.execute_input": "2022-09-02T11:37:44.955250Z",
     "iopub.status.busy": "2022-09-02T11:37:44.954573Z",
     "iopub.status.idle": "2022-09-02T11:37:45.321397Z",
     "shell.execute_reply": "2022-09-02T11:37:45.319831Z"
    },
    "papermill": {
     "duration": 0.39696,
     "end_time": "2022-09-02T11:37:45.325191",
     "exception": false,
     "start_time": "2022-09-02T11:37:44.928231",
     "status": "completed"
    },
    "tags": []
   },
   "outputs": [
    {
     "name": "stdout",
     "output_type": "stream",
     "text": [
      "0.9935889860627706\n"
     ]
    }
   ],
   "source": [
    "from sklearn.linear_model import LinearRegression\n",
    "lin_model = LinearRegression().fit(X_train,y_train)\n",
    "print(lin_model.score(X_train,y_train))"
   ]
  },
  {
   "cell_type": "code",
   "execution_count": 36,
   "id": "78730866",
   "metadata": {
    "execution": {
     "iopub.execute_input": "2022-09-02T11:37:45.452349Z",
     "iopub.status.busy": "2022-09-02T11:37:45.451915Z",
     "iopub.status.idle": "2022-09-02T11:37:45.469162Z",
     "shell.execute_reply": "2022-09-02T11:37:45.467516Z"
    },
    "papermill": {
     "duration": 0.056975,
     "end_time": "2022-09-02T11:37:45.473513",
     "exception": false,
     "start_time": "2022-09-02T11:37:45.416538",
     "status": "completed"
    },
    "tags": []
   },
   "outputs": [],
   "source": [
    "model_predict = lin_model.predict(X_test)"
   ]
  },
  {
   "cell_type": "code",
   "execution_count": 37,
   "id": "3cfa7879",
   "metadata": {
    "execution": {
     "iopub.execute_input": "2022-09-02T11:37:45.594310Z",
     "iopub.status.busy": "2022-09-02T11:37:45.593924Z",
     "iopub.status.idle": "2022-09-02T11:37:45.602595Z",
     "shell.execute_reply": "2022-09-02T11:37:45.601337Z"
    },
    "papermill": {
     "duration": 0.067778,
     "end_time": "2022-09-02T11:37:45.605325",
     "exception": false,
     "start_time": "2022-09-02T11:37:45.537547",
     "status": "completed"
    },
    "tags": []
   },
   "outputs": [
    {
     "data": {
      "text/plain": [
       "438.2683391888438"
      ]
     },
     "execution_count": 37,
     "metadata": {},
     "output_type": "execute_result"
    }
   ],
   "source": [
    "mean_squared_error(y_test,model_predict)"
   ]
  },
  {
   "cell_type": "code",
   "execution_count": 38,
   "id": "9c717921",
   "metadata": {
    "execution": {
     "iopub.execute_input": "2022-09-02T11:37:45.658058Z",
     "iopub.status.busy": "2022-09-02T11:37:45.656967Z",
     "iopub.status.idle": "2022-09-02T11:37:45.662275Z",
     "shell.execute_reply": "2022-09-02T11:37:45.661522Z"
    },
    "papermill": {
     "duration": 0.033751,
     "end_time": "2022-09-02T11:37:45.664433",
     "exception": false,
     "start_time": "2022-09-02T11:37:45.630682",
     "status": "completed"
    },
    "tags": []
   },
   "outputs": [],
   "source": [
    "result = pd.DataFrame({\"Real Y\":y_test,\n",
    "                      \"Predict Y\":model_predict})"
   ]
  },
  {
   "cell_type": "code",
   "execution_count": 39,
   "id": "c35a8628",
   "metadata": {
    "execution": {
     "iopub.execute_input": "2022-09-02T11:37:45.716629Z",
     "iopub.status.busy": "2022-09-02T11:37:45.715960Z",
     "iopub.status.idle": "2022-09-02T11:37:45.726487Z",
     "shell.execute_reply": "2022-09-02T11:37:45.725719Z"
    },
    "papermill": {
     "duration": 0.038933,
     "end_time": "2022-09-02T11:37:45.728476",
     "exception": false,
     "start_time": "2022-09-02T11:37:45.689543",
     "status": "completed"
    },
    "tags": []
   },
   "outputs": [
    {
     "data": {
      "text/html": [
       "<div>\n",
       "<style scoped>\n",
       "    .dataframe tbody tr th:only-of-type {\n",
       "        vertical-align: middle;\n",
       "    }\n",
       "\n",
       "    .dataframe tbody tr th {\n",
       "        vertical-align: top;\n",
       "    }\n",
       "\n",
       "    .dataframe thead th {\n",
       "        text-align: right;\n",
       "    }\n",
       "</style>\n",
       "<table border=\"1\" class=\"dataframe\">\n",
       "  <thead>\n",
       "    <tr style=\"text-align: right;\">\n",
       "      <th></th>\n",
       "      <th>Real Y</th>\n",
       "      <th>Predict Y</th>\n",
       "    </tr>\n",
       "  </thead>\n",
       "  <tbody>\n",
       "    <tr>\n",
       "      <th>62890</th>\n",
       "      <td>490.000000</td>\n",
       "      <td>438.878906</td>\n",
       "    </tr>\n",
       "    <tr>\n",
       "      <th>50970</th>\n",
       "      <td>251.000000</td>\n",
       "      <td>258.861328</td>\n",
       "    </tr>\n",
       "    <tr>\n",
       "      <th>1363</th>\n",
       "      <td>1000.000000</td>\n",
       "      <td>910.935547</td>\n",
       "    </tr>\n",
       "    <tr>\n",
       "      <th>36271</th>\n",
       "      <td>432.000000</td>\n",
       "      <td>414.705078</td>\n",
       "    </tr>\n",
       "    <tr>\n",
       "      <th>64441</th>\n",
       "      <td>268.000000</td>\n",
       "      <td>281.544922</td>\n",
       "    </tr>\n",
       "    <tr>\n",
       "      <th>...</th>\n",
       "      <td>...</td>\n",
       "      <td>...</td>\n",
       "    </tr>\n",
       "    <tr>\n",
       "      <th>15249</th>\n",
       "      <td>327.000000</td>\n",
       "      <td>330.451172</td>\n",
       "    </tr>\n",
       "    <tr>\n",
       "      <th>18044</th>\n",
       "      <td>892.000000</td>\n",
       "      <td>877.314453</td>\n",
       "    </tr>\n",
       "    <tr>\n",
       "      <th>44219</th>\n",
       "      <td>1050.000000</td>\n",
       "      <td>1049.197266</td>\n",
       "    </tr>\n",
       "    <tr>\n",
       "      <th>32932</th>\n",
       "      <td>300.000000</td>\n",
       "      <td>308.943359</td>\n",
       "    </tr>\n",
       "    <tr>\n",
       "      <th>5090</th>\n",
       "      <td>400.000000</td>\n",
       "      <td>394.833984</td>\n",
       "    </tr>\n",
       "  </tbody>\n",
       "</table>\n",
       "<p>29987 rows × 2 columns</p>\n",
       "</div>"
      ],
      "text/plain": [
       "           Real Y   Predict Y\n",
       "62890  490.000000  438.878906\n",
       "50970  251.000000  258.861328\n",
       "1363  1000.000000  910.935547\n",
       "36271  432.000000  414.705078\n",
       "64441  268.000000  281.544922\n",
       "...           ...         ...\n",
       "15249  327.000000  330.451172\n",
       "18044  892.000000  877.314453\n",
       "44219 1050.000000 1049.197266\n",
       "32932  300.000000  308.943359\n",
       "5090   400.000000  394.833984\n",
       "\n",
       "[29987 rows x 2 columns]"
      ]
     },
     "execution_count": 39,
     "metadata": {},
     "output_type": "execute_result"
    }
   ],
   "source": [
    "result"
   ]
  },
  {
   "cell_type": "markdown",
   "id": "f06de5c5",
   "metadata": {
    "papermill": {
     "duration": 0.025046,
     "end_time": "2022-09-02T11:37:45.778491",
     "exception": false,
     "start_time": "2022-09-02T11:37:45.753445",
     "status": "completed"
    },
    "tags": []
   },
   "source": [
    "### LightGBM"
   ]
  },
  {
   "cell_type": "code",
   "execution_count": 40,
   "id": "b070b0b5",
   "metadata": {
    "execution": {
     "iopub.execute_input": "2022-09-02T11:37:45.831380Z",
     "iopub.status.busy": "2022-09-02T11:37:45.830711Z",
     "iopub.status.idle": "2022-09-02T11:37:47.384806Z",
     "shell.execute_reply": "2022-09-02T11:37:47.383713Z"
    },
    "papermill": {
     "duration": 1.583638,
     "end_time": "2022-09-02T11:37:47.387607",
     "exception": false,
     "start_time": "2022-09-02T11:37:45.803969",
     "status": "completed"
    },
    "tags": []
   },
   "outputs": [
    {
     "data": {
      "text/html": [
       "<style type='text/css'>\n",
       ".datatable table.frame { margin-bottom: 0; }\n",
       ".datatable table.frame thead { border-bottom: none; }\n",
       ".datatable table.frame tr.coltypes td {  color: #FFFFFF;  line-height: 6px;  padding: 0 0.5em;}\n",
       ".datatable .bool    { background: #DDDD99; }\n",
       ".datatable .object  { background: #565656; }\n",
       ".datatable .int     { background: #5D9E5D; }\n",
       ".datatable .float   { background: #4040CC; }\n",
       ".datatable .str     { background: #CC4040; }\n",
       ".datatable .time    { background: #40CC40; }\n",
       ".datatable .row_index {  background: var(--jp-border-color3);  border-right: 1px solid var(--jp-border-color0);  color: var(--jp-ui-font-color3);  font-size: 9px;}\n",
       ".datatable .frame tbody td { text-align: left; }\n",
       ".datatable .frame tr.coltypes .row_index {  background: var(--jp-border-color0);}\n",
       ".datatable th:nth-child(2) { padding-left: 12px; }\n",
       ".datatable .hellipsis {  color: var(--jp-cell-editor-border-color);}\n",
       ".datatable .vellipsis {  background: var(--jp-layout-color0);  color: var(--jp-cell-editor-border-color);}\n",
       ".datatable .na {  color: var(--jp-cell-editor-border-color);  font-size: 80%;}\n",
       ".datatable .sp {  opacity: 0.25;}\n",
       ".datatable .footer { font-size: 9px; }\n",
       ".datatable .frame_dimensions {  background: var(--jp-border-color3);  border-top: 1px solid var(--jp-border-color0);  color: var(--jp-ui-font-color3);  display: inline-block;  opacity: 0.6;  padding: 1px 10px 1px 5px;}\n",
       "</style>\n"
      ],
      "text/plain": [
       "<IPython.core.display.HTML object>"
      ]
     },
     "metadata": {},
     "output_type": "display_data"
    },
    {
     "name": "stdout",
     "output_type": "stream",
     "text": [
      "0.9984708628610386\n"
     ]
    }
   ],
   "source": [
    "from lightgbm import LGBMRegressor\n",
    "light_model = LGBMRegressor().fit(X_train,y_train)\n",
    "print(light_model.score(X_train,y_train))"
   ]
  },
  {
   "cell_type": "code",
   "execution_count": 41,
   "id": "b74f0a9f",
   "metadata": {
    "execution": {
     "iopub.execute_input": "2022-09-02T11:37:47.442309Z",
     "iopub.status.busy": "2022-09-02T11:37:47.441911Z",
     "iopub.status.idle": "2022-09-02T11:37:47.519422Z",
     "shell.execute_reply": "2022-09-02T11:37:47.518318Z"
    },
    "papermill": {
     "duration": 0.10764,
     "end_time": "2022-09-02T11:37:47.522353",
     "exception": false,
     "start_time": "2022-09-02T11:37:47.414713",
     "status": "completed"
    },
    "tags": []
   },
   "outputs": [],
   "source": [
    "light_model_predict = light_model.predict(X_test)"
   ]
  },
  {
   "cell_type": "code",
   "execution_count": 42,
   "id": "3408f81f",
   "metadata": {
    "execution": {
     "iopub.execute_input": "2022-09-02T11:37:47.577298Z",
     "iopub.status.busy": "2022-09-02T11:37:47.576462Z",
     "iopub.status.idle": "2022-09-02T11:37:47.585669Z",
     "shell.execute_reply": "2022-09-02T11:37:47.584487Z"
    },
    "papermill": {
     "duration": 0.037923,
     "end_time": "2022-09-02T11:37:47.587841",
     "exception": false,
     "start_time": "2022-09-02T11:37:47.549918",
     "status": "completed"
    },
    "tags": []
   },
   "outputs": [
    {
     "data": {
      "text/plain": [
       "131.35656402287333"
      ]
     },
     "execution_count": 42,
     "metadata": {},
     "output_type": "execute_result"
    }
   ],
   "source": [
    "mean_squared_error(y_test,light_model_predict)"
   ]
  },
  {
   "cell_type": "code",
   "execution_count": 43,
   "id": "c3620601",
   "metadata": {
    "execution": {
     "iopub.execute_input": "2022-09-02T11:37:47.640693Z",
     "iopub.status.busy": "2022-09-02T11:37:47.639975Z",
     "iopub.status.idle": "2022-09-02T11:37:47.646519Z",
     "shell.execute_reply": "2022-09-02T11:37:47.645464Z"
    },
    "papermill": {
     "duration": 0.035358,
     "end_time": "2022-09-02T11:37:47.648644",
     "exception": false,
     "start_time": "2022-09-02T11:37:47.613286",
     "status": "completed"
    },
    "tags": []
   },
   "outputs": [],
   "source": [
    "light_result = pd.DataFrame({\"Real Y\":y_test,\n",
    "                            \"Predict Y\":light_model_predict})"
   ]
  },
  {
   "cell_type": "code",
   "execution_count": 44,
   "id": "1f63d375",
   "metadata": {
    "execution": {
     "iopub.execute_input": "2022-09-02T11:37:47.701803Z",
     "iopub.status.busy": "2022-09-02T11:37:47.701383Z",
     "iopub.status.idle": "2022-09-02T11:37:47.713309Z",
     "shell.execute_reply": "2022-09-02T11:37:47.712290Z"
    },
    "papermill": {
     "duration": 0.041298,
     "end_time": "2022-09-02T11:37:47.715602",
     "exception": false,
     "start_time": "2022-09-02T11:37:47.674304",
     "status": "completed"
    },
    "tags": []
   },
   "outputs": [
    {
     "data": {
      "text/html": [
       "<div>\n",
       "<style scoped>\n",
       "    .dataframe tbody tr th:only-of-type {\n",
       "        vertical-align: middle;\n",
       "    }\n",
       "\n",
       "    .dataframe tbody tr th {\n",
       "        vertical-align: top;\n",
       "    }\n",
       "\n",
       "    .dataframe thead th {\n",
       "        text-align: right;\n",
       "    }\n",
       "</style>\n",
       "<table border=\"1\" class=\"dataframe\">\n",
       "  <thead>\n",
       "    <tr style=\"text-align: right;\">\n",
       "      <th></th>\n",
       "      <th>Real Y</th>\n",
       "      <th>Predict Y</th>\n",
       "    </tr>\n",
       "  </thead>\n",
       "  <tbody>\n",
       "    <tr>\n",
       "      <th>62890</th>\n",
       "      <td>490.000000</td>\n",
       "      <td>489.243018</td>\n",
       "    </tr>\n",
       "    <tr>\n",
       "      <th>50970</th>\n",
       "      <td>251.000000</td>\n",
       "      <td>251.002271</td>\n",
       "    </tr>\n",
       "    <tr>\n",
       "      <th>1363</th>\n",
       "      <td>1000.000000</td>\n",
       "      <td>996.553325</td>\n",
       "    </tr>\n",
       "    <tr>\n",
       "      <th>36271</th>\n",
       "      <td>432.000000</td>\n",
       "      <td>431.078493</td>\n",
       "    </tr>\n",
       "    <tr>\n",
       "      <th>64441</th>\n",
       "      <td>268.000000</td>\n",
       "      <td>266.354698</td>\n",
       "    </tr>\n",
       "    <tr>\n",
       "      <th>...</th>\n",
       "      <td>...</td>\n",
       "      <td>...</td>\n",
       "    </tr>\n",
       "    <tr>\n",
       "      <th>15249</th>\n",
       "      <td>327.000000</td>\n",
       "      <td>326.526644</td>\n",
       "    </tr>\n",
       "    <tr>\n",
       "      <th>18044</th>\n",
       "      <td>892.000000</td>\n",
       "      <td>890.909959</td>\n",
       "    </tr>\n",
       "    <tr>\n",
       "      <th>44219</th>\n",
       "      <td>1050.000000</td>\n",
       "      <td>1049.802128</td>\n",
       "    </tr>\n",
       "    <tr>\n",
       "      <th>32932</th>\n",
       "      <td>300.000000</td>\n",
       "      <td>300.814284</td>\n",
       "    </tr>\n",
       "    <tr>\n",
       "      <th>5090</th>\n",
       "      <td>400.000000</td>\n",
       "      <td>399.536756</td>\n",
       "    </tr>\n",
       "  </tbody>\n",
       "</table>\n",
       "<p>29987 rows × 2 columns</p>\n",
       "</div>"
      ],
      "text/plain": [
       "           Real Y   Predict Y\n",
       "62890  490.000000  489.243018\n",
       "50970  251.000000  251.002271\n",
       "1363  1000.000000  996.553325\n",
       "36271  432.000000  431.078493\n",
       "64441  268.000000  266.354698\n",
       "...           ...         ...\n",
       "15249  327.000000  326.526644\n",
       "18044  892.000000  890.909959\n",
       "44219 1050.000000 1049.802128\n",
       "32932  300.000000  300.814284\n",
       "5090   400.000000  399.536756\n",
       "\n",
       "[29987 rows x 2 columns]"
      ]
     },
     "execution_count": 44,
     "metadata": {},
     "output_type": "execute_result"
    }
   ],
   "source": [
    "light_result"
   ]
  },
  {
   "cell_type": "markdown",
   "id": "dd0df063",
   "metadata": {
    "papermill": {
     "duration": 0.02484,
     "end_time": "2022-09-02T11:37:47.766045",
     "exception": false,
     "start_time": "2022-09-02T11:37:47.741205",
     "status": "completed"
    },
    "tags": []
   },
   "source": [
    "### Gradient Boosting"
   ]
  },
  {
   "cell_type": "code",
   "execution_count": 45,
   "id": "911a104b",
   "metadata": {
    "execution": {
     "iopub.execute_input": "2022-09-02T11:37:47.818763Z",
     "iopub.status.busy": "2022-09-02T11:37:47.818071Z",
     "iopub.status.idle": "2022-09-02T11:37:59.242596Z",
     "shell.execute_reply": "2022-09-02T11:37:59.241466Z"
    },
    "papermill": {
     "duration": 11.453651,
     "end_time": "2022-09-02T11:37:59.245084",
     "exception": false,
     "start_time": "2022-09-02T11:37:47.791433",
     "status": "completed"
    },
    "tags": []
   },
   "outputs": [
    {
     "name": "stdout",
     "output_type": "stream",
     "text": [
      "0.9986831587158004\n"
     ]
    }
   ],
   "source": [
    "from sklearn.ensemble import GradientBoostingRegressor\n",
    "gradboost_model = GradientBoostingRegressor().fit(X_train,y_train)\n",
    "print(gradboost_model.score(X_train,y_train))"
   ]
  },
  {
   "cell_type": "code",
   "execution_count": 46,
   "id": "102bca11",
   "metadata": {
    "execution": {
     "iopub.execute_input": "2022-09-02T11:37:59.299173Z",
     "iopub.status.busy": "2022-09-02T11:37:59.298736Z",
     "iopub.status.idle": "2022-09-02T11:37:59.373101Z",
     "shell.execute_reply": "2022-09-02T11:37:59.371655Z"
    },
    "papermill": {
     "duration": 0.104489,
     "end_time": "2022-09-02T11:37:59.375918",
     "exception": false,
     "start_time": "2022-09-02T11:37:59.271429",
     "status": "completed"
    },
    "tags": []
   },
   "outputs": [],
   "source": [
    "gr_predict = gradboost_model.predict(X_test)"
   ]
  },
  {
   "cell_type": "code",
   "execution_count": 47,
   "id": "4bb6a615",
   "metadata": {
    "execution": {
     "iopub.execute_input": "2022-09-02T11:37:59.429707Z",
     "iopub.status.busy": "2022-09-02T11:37:59.429269Z",
     "iopub.status.idle": "2022-09-02T11:37:59.437738Z",
     "shell.execute_reply": "2022-09-02T11:37:59.436657Z"
    },
    "papermill": {
     "duration": 0.038109,
     "end_time": "2022-09-02T11:37:59.440010",
     "exception": false,
     "start_time": "2022-09-02T11:37:59.401901",
     "status": "completed"
    },
    "tags": []
   },
   "outputs": [
    {
     "data": {
      "text/plain": [
       "92.90715337221958"
      ]
     },
     "execution_count": 47,
     "metadata": {},
     "output_type": "execute_result"
    }
   ],
   "source": [
    "mean_squared_error(y_test,gr_predict)"
   ]
  },
  {
   "cell_type": "code",
   "execution_count": 48,
   "id": "90b332db",
   "metadata": {
    "execution": {
     "iopub.execute_input": "2022-09-02T11:37:59.494189Z",
     "iopub.status.busy": "2022-09-02T11:37:59.493767Z",
     "iopub.status.idle": "2022-09-02T11:37:59.499820Z",
     "shell.execute_reply": "2022-09-02T11:37:59.498801Z"
    },
    "papermill": {
     "duration": 0.035778,
     "end_time": "2022-09-02T11:37:59.501804",
     "exception": false,
     "start_time": "2022-09-02T11:37:59.466026",
     "status": "completed"
    },
    "tags": []
   },
   "outputs": [],
   "source": [
    "gb_result = pd.DataFrame({\"Real Y\":y_test,\n",
    "                         \"Predict Y\":gr_predict})"
   ]
  },
  {
   "cell_type": "code",
   "execution_count": 49,
   "id": "9b96be64",
   "metadata": {
    "execution": {
     "iopub.execute_input": "2022-09-02T11:37:59.555535Z",
     "iopub.status.busy": "2022-09-02T11:37:59.555091Z",
     "iopub.status.idle": "2022-09-02T11:37:59.567564Z",
     "shell.execute_reply": "2022-09-02T11:37:59.566435Z"
    },
    "papermill": {
     "duration": 0.041833,
     "end_time": "2022-09-02T11:37:59.569720",
     "exception": false,
     "start_time": "2022-09-02T11:37:59.527887",
     "status": "completed"
    },
    "tags": []
   },
   "outputs": [
    {
     "data": {
      "text/html": [
       "<div>\n",
       "<style scoped>\n",
       "    .dataframe tbody tr th:only-of-type {\n",
       "        vertical-align: middle;\n",
       "    }\n",
       "\n",
       "    .dataframe tbody tr th {\n",
       "        vertical-align: top;\n",
       "    }\n",
       "\n",
       "    .dataframe thead th {\n",
       "        text-align: right;\n",
       "    }\n",
       "</style>\n",
       "<table border=\"1\" class=\"dataframe\">\n",
       "  <thead>\n",
       "    <tr style=\"text-align: right;\">\n",
       "      <th></th>\n",
       "      <th>Real Y</th>\n",
       "      <th>Predict Y</th>\n",
       "    </tr>\n",
       "  </thead>\n",
       "  <tbody>\n",
       "    <tr>\n",
       "      <th>62890</th>\n",
       "      <td>490.000000</td>\n",
       "      <td>499.893799</td>\n",
       "    </tr>\n",
       "    <tr>\n",
       "      <th>50970</th>\n",
       "      <td>251.000000</td>\n",
       "      <td>253.192932</td>\n",
       "    </tr>\n",
       "    <tr>\n",
       "      <th>1363</th>\n",
       "      <td>1000.000000</td>\n",
       "      <td>950.455186</td>\n",
       "    </tr>\n",
       "    <tr>\n",
       "      <th>36271</th>\n",
       "      <td>432.000000</td>\n",
       "      <td>432.253483</td>\n",
       "    </tr>\n",
       "    <tr>\n",
       "      <th>64441</th>\n",
       "      <td>268.000000</td>\n",
       "      <td>269.487741</td>\n",
       "    </tr>\n",
       "    <tr>\n",
       "      <th>...</th>\n",
       "      <td>...</td>\n",
       "      <td>...</td>\n",
       "    </tr>\n",
       "    <tr>\n",
       "      <th>15249</th>\n",
       "      <td>327.000000</td>\n",
       "      <td>329.197910</td>\n",
       "    </tr>\n",
       "    <tr>\n",
       "      <th>18044</th>\n",
       "      <td>892.000000</td>\n",
       "      <td>880.186857</td>\n",
       "    </tr>\n",
       "    <tr>\n",
       "      <th>44219</th>\n",
       "      <td>1050.000000</td>\n",
       "      <td>1055.509615</td>\n",
       "    </tr>\n",
       "    <tr>\n",
       "      <th>32932</th>\n",
       "      <td>300.000000</td>\n",
       "      <td>300.572373</td>\n",
       "    </tr>\n",
       "    <tr>\n",
       "      <th>5090</th>\n",
       "      <td>400.000000</td>\n",
       "      <td>399.964543</td>\n",
       "    </tr>\n",
       "  </tbody>\n",
       "</table>\n",
       "<p>29987 rows × 2 columns</p>\n",
       "</div>"
      ],
      "text/plain": [
       "           Real Y   Predict Y\n",
       "62890  490.000000  499.893799\n",
       "50970  251.000000  253.192932\n",
       "1363  1000.000000  950.455186\n",
       "36271  432.000000  432.253483\n",
       "64441  268.000000  269.487741\n",
       "...           ...         ...\n",
       "15249  327.000000  329.197910\n",
       "18044  892.000000  880.186857\n",
       "44219 1050.000000 1055.509615\n",
       "32932  300.000000  300.572373\n",
       "5090   400.000000  399.964543\n",
       "\n",
       "[29987 rows x 2 columns]"
      ]
     },
     "execution_count": 49,
     "metadata": {},
     "output_type": "execute_result"
    }
   ],
   "source": [
    "gb_result"
   ]
  },
  {
   "cell_type": "markdown",
   "id": "53d9e5c4",
   "metadata": {
    "papermill": {
     "duration": 0.026044,
     "end_time": "2022-09-02T11:37:59.621937",
     "exception": false,
     "start_time": "2022-09-02T11:37:59.595893",
     "status": "completed"
    },
    "tags": []
   },
   "source": [
    "# Model Improvement"
   ]
  },
  {
   "cell_type": "code",
   "execution_count": 50,
   "id": "4134ea4d",
   "metadata": {
    "execution": {
     "iopub.execute_input": "2022-09-02T11:37:59.676843Z",
     "iopub.status.busy": "2022-09-02T11:37:59.676260Z",
     "iopub.status.idle": "2022-09-02T11:37:59.683291Z",
     "shell.execute_reply": "2022-09-02T11:37:59.681866Z"
    },
    "papermill": {
     "duration": 0.03763,
     "end_time": "2022-09-02T11:37:59.685770",
     "exception": false,
     "start_time": "2022-09-02T11:37:59.648140",
     "status": "completed"
    },
    "tags": []
   },
   "outputs": [],
   "source": [
    "from sklearn.model_selection import GridSearchCV"
   ]
  },
  {
   "cell_type": "markdown",
   "id": "7117e563",
   "metadata": {
    "papermill": {
     "duration": 0.025512,
     "end_time": "2022-09-02T11:37:59.737826",
     "exception": false,
     "start_time": "2022-09-02T11:37:59.712314",
     "status": "completed"
    },
    "tags": []
   },
   "source": [
    "### LightGBM Improvement"
   ]
  },
  {
   "cell_type": "code",
   "execution_count": 51,
   "id": "6077ae11",
   "metadata": {
    "execution": {
     "iopub.execute_input": "2022-09-02T11:37:59.791656Z",
     "iopub.status.busy": "2022-09-02T11:37:59.791258Z",
     "iopub.status.idle": "2022-09-02T11:37:59.796617Z",
     "shell.execute_reply": "2022-09-02T11:37:59.795476Z"
    },
    "papermill": {
     "duration": 0.035421,
     "end_time": "2022-09-02T11:37:59.798908",
     "exception": false,
     "start_time": "2022-09-02T11:37:59.763487",
     "status": "completed"
    },
    "tags": []
   },
   "outputs": [],
   "source": [
    "lightgbm_parameters = {\"boosting_type\":[\"dart\",\"goss\"],\n",
    "                      \"num_leaves\":range(20,25),\n",
    "                      \"learning_rate\":[0.1,0.15],\n",
    "                      \"random_state\":[16],\n",
    "                      \"min_child_samples\":range(15,20)}"
   ]
  },
  {
   "cell_type": "code",
   "execution_count": 52,
   "id": "038cdcd6",
   "metadata": {
    "execution": {
     "iopub.execute_input": "2022-09-02T11:37:59.852863Z",
     "iopub.status.busy": "2022-09-02T11:37:59.852453Z",
     "iopub.status.idle": "2022-09-02T11:44:04.403225Z",
     "shell.execute_reply": "2022-09-02T11:44:04.401877Z"
    },
    "papermill": {
     "duration": 364.581287,
     "end_time": "2022-09-02T11:44:04.406252",
     "exception": false,
     "start_time": "2022-09-02T11:37:59.824965",
     "status": "completed"
    },
    "tags": []
   },
   "outputs": [
    {
     "name": "stdout",
     "output_type": "stream",
     "text": [
      "Fitting 5 folds for each of 100 candidates, totalling 500 fits\n"
     ]
    }
   ],
   "source": [
    "lgbm_grid = GridSearchCV(light_model,lightgbm_parameters,cv=5,n_jobs=-1,verbose=1).fit(X_train,y_train)"
   ]
  },
  {
   "cell_type": "code",
   "execution_count": 53,
   "id": "f8b3d358",
   "metadata": {
    "execution": {
     "iopub.execute_input": "2022-09-02T11:44:04.464319Z",
     "iopub.status.busy": "2022-09-02T11:44:04.463922Z",
     "iopub.status.idle": "2022-09-02T11:44:04.470740Z",
     "shell.execute_reply": "2022-09-02T11:44:04.469464Z"
    },
    "papermill": {
     "duration": 0.038854,
     "end_time": "2022-09-02T11:44:04.474278",
     "exception": false,
     "start_time": "2022-09-02T11:44:04.435424",
     "status": "completed"
    },
    "tags": []
   },
   "outputs": [
    {
     "name": "stdout",
     "output_type": "stream",
     "text": [
      "{'boosting_type': 'goss', 'learning_rate': 0.15, 'min_child_samples': 15, 'num_leaves': 23, 'random_state': 16}\n"
     ]
    }
   ],
   "source": [
    "print(lgbm_grid.best_params_)"
   ]
  },
  {
   "cell_type": "code",
   "execution_count": 54,
   "id": "f00f24f4",
   "metadata": {
    "execution": {
     "iopub.execute_input": "2022-09-02T11:44:04.532562Z",
     "iopub.status.busy": "2022-09-02T11:44:04.531330Z",
     "iopub.status.idle": "2022-09-02T11:44:05.373819Z",
     "shell.execute_reply": "2022-09-02T11:44:05.372347Z"
    },
    "papermill": {
     "duration": 0.872933,
     "end_time": "2022-09-02T11:44:05.376505",
     "exception": false,
     "start_time": "2022-09-02T11:44:04.503572",
     "status": "completed"
    },
    "tags": []
   },
   "outputs": [
    {
     "name": "stdout",
     "output_type": "stream",
     "text": [
      "0.9987512138559288\n"
     ]
    }
   ],
   "source": [
    "lgbm_final_model = light_model.set_params(**lgbm_grid.best_params_)\n",
    "lgbm_final_model = lgbm_final_model.fit(X_train,y_train)\n",
    "print(lgbm_final_model.score(X_train,y_train))"
   ]
  },
  {
   "cell_type": "code",
   "execution_count": 55,
   "id": "6eee15a9",
   "metadata": {
    "execution": {
     "iopub.execute_input": "2022-09-02T11:44:05.433730Z",
     "iopub.status.busy": "2022-09-02T11:44:05.432754Z",
     "iopub.status.idle": "2022-09-02T11:44:05.502784Z",
     "shell.execute_reply": "2022-09-02T11:44:05.501584Z"
    },
    "papermill": {
     "duration": 0.100665,
     "end_time": "2022-09-02T11:44:05.505741",
     "exception": false,
     "start_time": "2022-09-02T11:44:05.405076",
     "status": "completed"
    },
    "tags": []
   },
   "outputs": [],
   "source": [
    "lgbm_grid_predict = lgbm_final_model.predict(X_test)"
   ]
  },
  {
   "cell_type": "code",
   "execution_count": 56,
   "id": "eaa3a8c4",
   "metadata": {
    "execution": {
     "iopub.execute_input": "2022-09-02T11:44:05.563179Z",
     "iopub.status.busy": "2022-09-02T11:44:05.562780Z",
     "iopub.status.idle": "2022-09-02T11:44:05.570525Z",
     "shell.execute_reply": "2022-09-02T11:44:05.569654Z"
    },
    "papermill": {
     "duration": 0.038279,
     "end_time": "2022-09-02T11:44:05.572873",
     "exception": false,
     "start_time": "2022-09-02T11:44:05.534594",
     "status": "completed"
    },
    "tags": []
   },
   "outputs": [
    {
     "data": {
      "text/plain": [
       "143.82070428515206"
      ]
     },
     "execution_count": 56,
     "metadata": {},
     "output_type": "execute_result"
    }
   ],
   "source": [
    "mean_squared_error(y_test,lgbm_grid_predict)"
   ]
  },
  {
   "cell_type": "code",
   "execution_count": 57,
   "id": "5ecd10c6",
   "metadata": {
    "execution": {
     "iopub.execute_input": "2022-09-02T11:44:05.628868Z",
     "iopub.status.busy": "2022-09-02T11:44:05.628454Z",
     "iopub.status.idle": "2022-09-02T11:44:05.634349Z",
     "shell.execute_reply": "2022-09-02T11:44:05.633570Z"
    },
    "papermill": {
     "duration": 0.036259,
     "end_time": "2022-09-02T11:44:05.636340",
     "exception": false,
     "start_time": "2022-09-02T11:44:05.600081",
     "status": "completed"
    },
    "tags": []
   },
   "outputs": [],
   "source": [
    "light_result[\"Grid Predict\"] = lgbm_grid_predict"
   ]
  },
  {
   "cell_type": "code",
   "execution_count": 58,
   "id": "96246ea4",
   "metadata": {
    "execution": {
     "iopub.execute_input": "2022-09-02T11:44:05.691904Z",
     "iopub.status.busy": "2022-09-02T11:44:05.691216Z",
     "iopub.status.idle": "2022-09-02T11:44:05.703546Z",
     "shell.execute_reply": "2022-09-02T11:44:05.702712Z"
    },
    "papermill": {
     "duration": 0.042955,
     "end_time": "2022-09-02T11:44:05.705872",
     "exception": false,
     "start_time": "2022-09-02T11:44:05.662917",
     "status": "completed"
    },
    "tags": []
   },
   "outputs": [
    {
     "data": {
      "text/html": [
       "<div>\n",
       "<style scoped>\n",
       "    .dataframe tbody tr th:only-of-type {\n",
       "        vertical-align: middle;\n",
       "    }\n",
       "\n",
       "    .dataframe tbody tr th {\n",
       "        vertical-align: top;\n",
       "    }\n",
       "\n",
       "    .dataframe thead th {\n",
       "        text-align: right;\n",
       "    }\n",
       "</style>\n",
       "<table border=\"1\" class=\"dataframe\">\n",
       "  <thead>\n",
       "    <tr style=\"text-align: right;\">\n",
       "      <th></th>\n",
       "      <th>Real Y</th>\n",
       "      <th>Predict Y</th>\n",
       "      <th>Grid Predict</th>\n",
       "    </tr>\n",
       "  </thead>\n",
       "  <tbody>\n",
       "    <tr>\n",
       "      <th>62890</th>\n",
       "      <td>490.000000</td>\n",
       "      <td>489.243018</td>\n",
       "      <td>486.101162</td>\n",
       "    </tr>\n",
       "    <tr>\n",
       "      <th>50970</th>\n",
       "      <td>251.000000</td>\n",
       "      <td>251.002271</td>\n",
       "      <td>250.362489</td>\n",
       "    </tr>\n",
       "    <tr>\n",
       "      <th>1363</th>\n",
       "      <td>1000.000000</td>\n",
       "      <td>996.553325</td>\n",
       "      <td>987.215904</td>\n",
       "    </tr>\n",
       "    <tr>\n",
       "      <th>36271</th>\n",
       "      <td>432.000000</td>\n",
       "      <td>431.078493</td>\n",
       "      <td>431.734382</td>\n",
       "    </tr>\n",
       "    <tr>\n",
       "      <th>64441</th>\n",
       "      <td>268.000000</td>\n",
       "      <td>266.354698</td>\n",
       "      <td>267.549291</td>\n",
       "    </tr>\n",
       "    <tr>\n",
       "      <th>...</th>\n",
       "      <td>...</td>\n",
       "      <td>...</td>\n",
       "      <td>...</td>\n",
       "    </tr>\n",
       "    <tr>\n",
       "      <th>15249</th>\n",
       "      <td>327.000000</td>\n",
       "      <td>326.526644</td>\n",
       "      <td>328.163724</td>\n",
       "    </tr>\n",
       "    <tr>\n",
       "      <th>18044</th>\n",
       "      <td>892.000000</td>\n",
       "      <td>890.909959</td>\n",
       "      <td>885.451687</td>\n",
       "    </tr>\n",
       "    <tr>\n",
       "      <th>44219</th>\n",
       "      <td>1050.000000</td>\n",
       "      <td>1049.802128</td>\n",
       "      <td>1051.451343</td>\n",
       "    </tr>\n",
       "    <tr>\n",
       "      <th>32932</th>\n",
       "      <td>300.000000</td>\n",
       "      <td>300.814284</td>\n",
       "      <td>300.456846</td>\n",
       "    </tr>\n",
       "    <tr>\n",
       "      <th>5090</th>\n",
       "      <td>400.000000</td>\n",
       "      <td>399.536756</td>\n",
       "      <td>401.002983</td>\n",
       "    </tr>\n",
       "  </tbody>\n",
       "</table>\n",
       "<p>29987 rows × 3 columns</p>\n",
       "</div>"
      ],
      "text/plain": [
       "           Real Y   Predict Y  Grid Predict\n",
       "62890  490.000000  489.243018    486.101162\n",
       "50970  251.000000  251.002271    250.362489\n",
       "1363  1000.000000  996.553325    987.215904\n",
       "36271  432.000000  431.078493    431.734382\n",
       "64441  268.000000  266.354698    267.549291\n",
       "...           ...         ...           ...\n",
       "15249  327.000000  326.526644    328.163724\n",
       "18044  892.000000  890.909959    885.451687\n",
       "44219 1050.000000 1049.802128   1051.451343\n",
       "32932  300.000000  300.814284    300.456846\n",
       "5090   400.000000  399.536756    401.002983\n",
       "\n",
       "[29987 rows x 3 columns]"
      ]
     },
     "execution_count": 58,
     "metadata": {},
     "output_type": "execute_result"
    }
   ],
   "source": [
    "light_result"
   ]
  },
  {
   "cell_type": "markdown",
   "id": "c9bda9dc",
   "metadata": {
    "papermill": {
     "duration": 0.027169,
     "end_time": "2022-09-02T11:44:05.760500",
     "exception": false,
     "start_time": "2022-09-02T11:44:05.733331",
     "status": "completed"
    },
    "tags": []
   },
   "source": [
    "### Gradient Boosting Improvement"
   ]
  },
  {
   "cell_type": "code",
   "execution_count": 59,
   "id": "2a5b6dfa",
   "metadata": {
    "execution": {
     "iopub.execute_input": "2022-09-02T11:44:05.817417Z",
     "iopub.status.busy": "2022-09-02T11:44:05.816732Z",
     "iopub.status.idle": "2022-09-02T11:44:05.821835Z",
     "shell.execute_reply": "2022-09-02T11:44:05.821015Z"
    },
    "papermill": {
     "duration": 0.035875,
     "end_time": "2022-09-02T11:44:05.824068",
     "exception": false,
     "start_time": "2022-09-02T11:44:05.788193",
     "status": "completed"
    },
    "tags": []
   },
   "outputs": [],
   "source": [
    "grad_boost_parameters = {\"learning_rate\":[0.05,0.1,0.15],\n",
    "                        \"n_estimators\":range(90,95),\n",
    "                        \"subsample\":[0.1,0.3,0.5],\n",
    "                        \"min_samples_split\":range(2,6),\n",
    "                        \"max_features\":[\"sqrt\",\"log2\"]\n",
    "                        }"
   ]
  },
  {
   "cell_type": "code",
   "execution_count": 60,
   "id": "dda1dcc0",
   "metadata": {
    "execution": {
     "iopub.execute_input": "2022-09-02T11:44:05.882553Z",
     "iopub.status.busy": "2022-09-02T11:44:05.881713Z",
     "iopub.status.idle": "2022-09-02T11:56:27.413430Z",
     "shell.execute_reply": "2022-09-02T11:56:27.412108Z"
    },
    "papermill": {
     "duration": 741.563936,
     "end_time": "2022-09-02T11:56:27.416457",
     "exception": false,
     "start_time": "2022-09-02T11:44:05.852521",
     "status": "completed"
    },
    "tags": []
   },
   "outputs": [
    {
     "name": "stdout",
     "output_type": "stream",
     "text": [
      "Fitting 5 folds for each of 360 candidates, totalling 1800 fits\n"
     ]
    }
   ],
   "source": [
    "grBoost_grid = GridSearchCV(gradboost_model,grad_boost_parameters,cv=5,n_jobs=-1,verbose=1).fit(X_train,y_train)"
   ]
  },
  {
   "cell_type": "code",
   "execution_count": 61,
   "id": "d9d9ba02",
   "metadata": {
    "execution": {
     "iopub.execute_input": "2022-09-02T11:56:27.472173Z",
     "iopub.status.busy": "2022-09-02T11:56:27.471763Z",
     "iopub.status.idle": "2022-09-02T11:56:27.477504Z",
     "shell.execute_reply": "2022-09-02T11:56:27.476319Z"
    },
    "papermill": {
     "duration": 0.036725,
     "end_time": "2022-09-02T11:56:27.480717",
     "exception": false,
     "start_time": "2022-09-02T11:56:27.443992",
     "status": "completed"
    },
    "tags": []
   },
   "outputs": [
    {
     "name": "stdout",
     "output_type": "stream",
     "text": [
      "{'learning_rate': 0.15, 'max_features': 'sqrt', 'min_samples_split': 5, 'n_estimators': 90, 'subsample': 0.5}\n"
     ]
    }
   ],
   "source": [
    "print(grBoost_grid.best_params_)"
   ]
  },
  {
   "cell_type": "code",
   "execution_count": 62,
   "id": "ef3b9003",
   "metadata": {
    "execution": {
     "iopub.execute_input": "2022-09-02T11:56:27.536716Z",
     "iopub.status.busy": "2022-09-02T11:56:27.536002Z",
     "iopub.status.idle": "2022-09-02T11:56:29.329677Z",
     "shell.execute_reply": "2022-09-02T11:56:29.328468Z"
    },
    "papermill": {
     "duration": 1.824211,
     "end_time": "2022-09-02T11:56:29.331874",
     "exception": false,
     "start_time": "2022-09-02T11:56:27.507663",
     "status": "completed"
    },
    "tags": []
   },
   "outputs": [
    {
     "name": "stdout",
     "output_type": "stream",
     "text": [
      "0.968676573045851\n"
     ]
    }
   ],
   "source": [
    "gradBoost_final_model = gradboost_model.set_params(**grBoost_grid.best_params_)\n",
    "gradBoost_final_model = gradBoost_final_model.fit(X_train,y_train)\n",
    "print(gradBoost_final_model.score(X_train,y_train))"
   ]
  },
  {
   "cell_type": "code",
   "execution_count": 63,
   "id": "9d7c2a16",
   "metadata": {
    "execution": {
     "iopub.execute_input": "2022-09-02T11:56:29.387570Z",
     "iopub.status.busy": "2022-09-02T11:56:29.386909Z",
     "iopub.status.idle": "2022-09-02T11:56:29.452807Z",
     "shell.execute_reply": "2022-09-02T11:56:29.451573Z"
    },
    "papermill": {
     "duration": 0.096595,
     "end_time": "2022-09-02T11:56:29.455474",
     "exception": false,
     "start_time": "2022-09-02T11:56:29.358879",
     "status": "completed"
    },
    "tags": []
   },
   "outputs": [],
   "source": [
    "gradboost_final_predict = gradBoost_final_model.predict(X_test)"
   ]
  },
  {
   "cell_type": "code",
   "execution_count": 64,
   "id": "d65f49f0",
   "metadata": {
    "execution": {
     "iopub.execute_input": "2022-09-02T11:56:29.512468Z",
     "iopub.status.busy": "2022-09-02T11:56:29.511756Z",
     "iopub.status.idle": "2022-09-02T11:56:29.518580Z",
     "shell.execute_reply": "2022-09-02T11:56:29.517587Z"
    },
    "papermill": {
     "duration": 0.037677,
     "end_time": "2022-09-02T11:56:29.520729",
     "exception": false,
     "start_time": "2022-09-02T11:56:29.483052",
     "status": "completed"
    },
    "tags": []
   },
   "outputs": [
    {
     "data": {
      "text/plain": [
       "2129.098889098129"
      ]
     },
     "execution_count": 64,
     "metadata": {},
     "output_type": "execute_result"
    }
   ],
   "source": [
    "mean_squared_error(y_test,gradboost_final_predict)"
   ]
  },
  {
   "cell_type": "code",
   "execution_count": 65,
   "id": "e0b94192",
   "metadata": {
    "execution": {
     "iopub.execute_input": "2022-09-02T11:56:29.579658Z",
     "iopub.status.busy": "2022-09-02T11:56:29.578708Z",
     "iopub.status.idle": "2022-09-02T11:56:29.583868Z",
     "shell.execute_reply": "2022-09-02T11:56:29.583082Z"
    },
    "papermill": {
     "duration": 0.03786,
     "end_time": "2022-09-02T11:56:29.585995",
     "exception": false,
     "start_time": "2022-09-02T11:56:29.548135",
     "status": "completed"
    },
    "tags": []
   },
   "outputs": [],
   "source": [
    "gb_result[\"Grid Predict\"] = gradboost_final_predict"
   ]
  },
  {
   "cell_type": "code",
   "execution_count": 66,
   "id": "d067b1d5",
   "metadata": {
    "execution": {
     "iopub.execute_input": "2022-09-02T11:56:29.644359Z",
     "iopub.status.busy": "2022-09-02T11:56:29.643351Z",
     "iopub.status.idle": "2022-09-02T11:56:29.655692Z",
     "shell.execute_reply": "2022-09-02T11:56:29.654838Z"
    },
    "papermill": {
     "duration": 0.044409,
     "end_time": "2022-09-02T11:56:29.657883",
     "exception": false,
     "start_time": "2022-09-02T11:56:29.613474",
     "status": "completed"
    },
    "tags": []
   },
   "outputs": [
    {
     "data": {
      "text/html": [
       "<div>\n",
       "<style scoped>\n",
       "    .dataframe tbody tr th:only-of-type {\n",
       "        vertical-align: middle;\n",
       "    }\n",
       "\n",
       "    .dataframe tbody tr th {\n",
       "        vertical-align: top;\n",
       "    }\n",
       "\n",
       "    .dataframe thead th {\n",
       "        text-align: right;\n",
       "    }\n",
       "</style>\n",
       "<table border=\"1\" class=\"dataframe\">\n",
       "  <thead>\n",
       "    <tr style=\"text-align: right;\">\n",
       "      <th></th>\n",
       "      <th>Real Y</th>\n",
       "      <th>Predict Y</th>\n",
       "      <th>Grid Predict</th>\n",
       "    </tr>\n",
       "  </thead>\n",
       "  <tbody>\n",
       "    <tr>\n",
       "      <th>62890</th>\n",
       "      <td>490.000000</td>\n",
       "      <td>499.893799</td>\n",
       "      <td>534.537499</td>\n",
       "    </tr>\n",
       "    <tr>\n",
       "      <th>50970</th>\n",
       "      <td>251.000000</td>\n",
       "      <td>253.192932</td>\n",
       "      <td>253.422146</td>\n",
       "    </tr>\n",
       "    <tr>\n",
       "      <th>1363</th>\n",
       "      <td>1000.000000</td>\n",
       "      <td>950.455186</td>\n",
       "      <td>707.304806</td>\n",
       "    </tr>\n",
       "    <tr>\n",
       "      <th>36271</th>\n",
       "      <td>432.000000</td>\n",
       "      <td>432.253483</td>\n",
       "      <td>420.278112</td>\n",
       "    </tr>\n",
       "    <tr>\n",
       "      <th>64441</th>\n",
       "      <td>268.000000</td>\n",
       "      <td>269.487741</td>\n",
       "      <td>283.877468</td>\n",
       "    </tr>\n",
       "    <tr>\n",
       "      <th>...</th>\n",
       "      <td>...</td>\n",
       "      <td>...</td>\n",
       "      <td>...</td>\n",
       "    </tr>\n",
       "    <tr>\n",
       "      <th>15249</th>\n",
       "      <td>327.000000</td>\n",
       "      <td>329.197910</td>\n",
       "      <td>340.947641</td>\n",
       "    </tr>\n",
       "    <tr>\n",
       "      <th>18044</th>\n",
       "      <td>892.000000</td>\n",
       "      <td>880.186857</td>\n",
       "      <td>845.816465</td>\n",
       "    </tr>\n",
       "    <tr>\n",
       "      <th>44219</th>\n",
       "      <td>1050.000000</td>\n",
       "      <td>1055.509615</td>\n",
       "      <td>990.803711</td>\n",
       "    </tr>\n",
       "    <tr>\n",
       "      <th>32932</th>\n",
       "      <td>300.000000</td>\n",
       "      <td>300.572373</td>\n",
       "      <td>312.232785</td>\n",
       "    </tr>\n",
       "    <tr>\n",
       "      <th>5090</th>\n",
       "      <td>400.000000</td>\n",
       "      <td>399.964543</td>\n",
       "      <td>388.641659</td>\n",
       "    </tr>\n",
       "  </tbody>\n",
       "</table>\n",
       "<p>29987 rows × 3 columns</p>\n",
       "</div>"
      ],
      "text/plain": [
       "           Real Y   Predict Y  Grid Predict\n",
       "62890  490.000000  499.893799    534.537499\n",
       "50970  251.000000  253.192932    253.422146\n",
       "1363  1000.000000  950.455186    707.304806\n",
       "36271  432.000000  432.253483    420.278112\n",
       "64441  268.000000  269.487741    283.877468\n",
       "...           ...         ...           ...\n",
       "15249  327.000000  329.197910    340.947641\n",
       "18044  892.000000  880.186857    845.816465\n",
       "44219 1050.000000 1055.509615    990.803711\n",
       "32932  300.000000  300.572373    312.232785\n",
       "5090   400.000000  399.964543    388.641659\n",
       "\n",
       "[29987 rows x 3 columns]"
      ]
     },
     "execution_count": 66,
     "metadata": {},
     "output_type": "execute_result"
    }
   ],
   "source": [
    "gb_result"
   ]
  },
  {
   "cell_type": "code",
   "execution_count": null,
   "id": "5c581713",
   "metadata": {
    "papermill": {
     "duration": 0.027202,
     "end_time": "2022-09-02T11:56:29.717990",
     "exception": false,
     "start_time": "2022-09-02T11:56:29.690788",
     "status": "completed"
    },
    "tags": []
   },
   "outputs": [],
   "source": []
  }
 ],
 "metadata": {
  "kernelspec": {
   "display_name": "Python 3",
   "language": "python",
   "name": "python3"
  },
  "language_info": {
   "codemirror_mode": {
    "name": "ipython",
    "version": 3
   },
   "file_extension": ".py",
   "mimetype": "text/x-python",
   "name": "python",
   "nbconvert_exporter": "python",
   "pygments_lexer": "ipython3",
   "version": "3.7.12"
  },
  "papermill": {
   "default_parameters": {},
   "duration": 1151.43456,
   "end_time": "2022-09-02T11:56:32.367818",
   "environment_variables": {},
   "exception": null,
   "input_path": "__notebook__.ipynb",
   "output_path": "__notebook__.ipynb",
   "parameters": {},
   "start_time": "2022-09-02T11:37:20.933258",
   "version": "2.3.4"
  }
 },
 "nbformat": 4,
 "nbformat_minor": 5
}
